{
 "cells": [
  {
   "cell_type": "code",
   "execution_count": 273,
   "metadata": {},
   "outputs": [],
   "source": [
    "import pandas as pd\n",
    "from sklearn.model_selection import train_test_split\n",
    "from sklearn.preprocessing import StandardScaler\n",
    "from sklearn.linear_model import LogisticRegression\n",
    "from sklearn.ensemble import RandomForestClassifier\n",
    "from sklearn.metrics import classification_report, accuracy_score"
   ]
  },
  {
   "cell_type": "markdown",
   "metadata": {},
   "source": [
    "Load and merged dataset"
   ]
  },
  {
   "cell_type": "code",
   "execution_count": 301,
   "metadata": {},
   "outputs": [],
   "source": [
    "file_paths = [\"../../data/Stats_csv/Processed_Forward_data.csv\",  \n",
    "\"../../data/Stats_csv/Processed_Midfielder_data.csv\"]\n",
    "dfs = []\n",
    "for file in file_paths:\n",
    "    dfs.append(pd.read_csv(file))\n",
    "common_columns = set(dfs[0].columns) \n",
    "for df in dfs[1:]:\n",
    "    common_columns &= set(df.columns) \n",
    "\n",
    "common_columns = list(common_columns)\n",
    "merged_df = []\n",
    "for df in dfs:\n",
    "    merged_df.append(df[common_columns])\n",
    "\n",
    "merged_df = pd.concat(merged_df,ignore_index=True)\n",
    "merged_df = merged_df.loc[merged_df['Appearances']!=0]\n"
   ]
  },
  {
   "cell_type": "markdown",
   "metadata": {},
   "source": [
    "Data cleaning"
   ]
  },
  {
   "cell_type": "code",
   "execution_count": 302,
   "metadata": {},
   "outputs": [
    {
     "data": {
      "text/plain": [
       "Index(['Goals with right foot', 'Crosses', 'Height', 'Penalties scored',\n",
       "       'Shooting accuracy %', 'Big chances missed', 'Yellow cards',\n",
       "       'Blocked shots', 'Assists', 'Nationality', 'Freekicks scored', 'Shots',\n",
       "       'Offsides', 'Headed Clearance', 'Appearances', 'Position',\n",
       "       'Interceptions', 'Headed goals', 'Goals with left foot', 'Passes',\n",
       "       'Clearances', 'Hit woodwork', 'Tackles', 'Red cards', 'Date of Birth',\n",
       "       'Name', 'Goals', 'Losses', 'Club', 'Big Chances Created', 'Fouls',\n",
       "       'Wins', 'Goals per match', 'Passes per match', 'Shots on target'],\n",
       "      dtype='object')"
      ]
     },
     "execution_count": 302,
     "metadata": {},
     "output_type": "execute_result"
    }
   ],
   "source": [
    "from sklearn.preprocessing import LabelEncoder\n",
    "\n",
    "for col in ['Position', 'Nationality', 'Club']:\n",
    "    merged_df[col] = LabelEncoder().fit_transform(merged_df[col])\n",
    "merged_df.columns"
   ]
  },
  {
   "cell_type": "code",
   "execution_count": 328,
   "metadata": {},
   "outputs": [],
   "source": [
    "features = ['Appearances', 'Assists', 'Fouls', 'Passes', 'Wins', \n",
    "            'Passes per match', 'Height', 'Red cards', 'Yellow cards', 'Losses','Position','Nationality','Club']\n",
    "target = 'Goals'\n",
    "\n",
    "X = merged_df[features]\n",
    "y = merged_df[target]"
   ]
  },
  {
   "cell_type": "markdown",
   "metadata": {},
   "source": [
    "Split data"
   ]
  },
  {
   "cell_type": "code",
   "execution_count": 329,
   "metadata": {},
   "outputs": [],
   "source": [
    "X_train, X_test , y_train , y_test = train_test_split(X,y,test_size=0.3, random_state=42)"
   ]
  },
  {
   "cell_type": "code",
   "execution_count": 330,
   "metadata": {},
   "outputs": [],
   "source": [
    "scaler = StandardScaler()\n",
    "X_train_scaler = scaler.fit_transform(X_train)\n",
    "X_test_scaler = scaler.transform(X_test)"
   ]
  },
  {
   "cell_type": "code",
   "execution_count": 331,
   "metadata": {},
   "outputs": [
    {
     "name": "stdout",
     "output_type": "stream",
     "text": [
      "Prediction Accuracy (Logistic Regression): 0.5333333333333333\n",
      "              precision    recall  f1-score   support\n",
      "\n",
      "           0       0.67      0.87      0.76        39\n",
      "           1       0.23      0.20      0.21        15\n",
      "           2       0.20      0.11      0.14         9\n",
      "           3       0.00      0.00      0.00         7\n",
      "           4       0.50      0.67      0.57         3\n",
      "           5       0.00      0.00      0.00         2\n",
      "           7       0.00      0.00      0.00         0\n",
      "\n",
      "    accuracy                           0.53        75\n",
      "   macro avg       0.23      0.26      0.24        75\n",
      "weighted avg       0.44      0.53      0.48        75\n",
      "\n"
     ]
    },
    {
     "name": "stderr",
     "output_type": "stream",
     "text": [
      "c:\\Users\\hoang\\AppData\\Local\\Programs\\Python\\Python311\\Lib\\site-packages\\sklearn\\metrics\\_classification.py:1531: UndefinedMetricWarning: Precision is ill-defined and being set to 0.0 in labels with no predicted samples. Use `zero_division` parameter to control this behavior.\n",
      "  _warn_prf(average, modifier, f\"{metric.capitalize()} is\", len(result))\n",
      "c:\\Users\\hoang\\AppData\\Local\\Programs\\Python\\Python311\\Lib\\site-packages\\sklearn\\metrics\\_classification.py:1531: UndefinedMetricWarning: Recall is ill-defined and being set to 0.0 in labels with no true samples. Use `zero_division` parameter to control this behavior.\n",
      "  _warn_prf(average, modifier, f\"{metric.capitalize()} is\", len(result))\n",
      "c:\\Users\\hoang\\AppData\\Local\\Programs\\Python\\Python311\\Lib\\site-packages\\sklearn\\metrics\\_classification.py:1531: UndefinedMetricWarning: Precision is ill-defined and being set to 0.0 in labels with no predicted samples. Use `zero_division` parameter to control this behavior.\n",
      "  _warn_prf(average, modifier, f\"{metric.capitalize()} is\", len(result))\n",
      "c:\\Users\\hoang\\AppData\\Local\\Programs\\Python\\Python311\\Lib\\site-packages\\sklearn\\metrics\\_classification.py:1531: UndefinedMetricWarning: Recall is ill-defined and being set to 0.0 in labels with no true samples. Use `zero_division` parameter to control this behavior.\n",
      "  _warn_prf(average, modifier, f\"{metric.capitalize()} is\", len(result))\n",
      "c:\\Users\\hoang\\AppData\\Local\\Programs\\Python\\Python311\\Lib\\site-packages\\sklearn\\metrics\\_classification.py:1531: UndefinedMetricWarning: Precision is ill-defined and being set to 0.0 in labels with no predicted samples. Use `zero_division` parameter to control this behavior.\n",
      "  _warn_prf(average, modifier, f\"{metric.capitalize()} is\", len(result))\n",
      "c:\\Users\\hoang\\AppData\\Local\\Programs\\Python\\Python311\\Lib\\site-packages\\sklearn\\metrics\\_classification.py:1531: UndefinedMetricWarning: Recall is ill-defined and being set to 0.0 in labels with no true samples. Use `zero_division` parameter to control this behavior.\n",
      "  _warn_prf(average, modifier, f\"{metric.capitalize()} is\", len(result))\n"
     ]
    }
   ],
   "source": [
    "model = LogisticRegression(random_state=42, max_iter=500)\n",
    "model.fit(X_train_scaler, y_train)\n",
    "y_pred = model.predict(X_test_scaler)\n",
    "accuracy = accuracy_score(y_test, y_pred)\n",
    "print(\"Prediction Accuracy (Logistic Regression):\", accuracy)\n",
    "print(classification_report(y_test, y_pred))"
   ]
  },
  {
   "cell_type": "code",
   "execution_count": null,
   "metadata": {},
   "outputs": [],
   "source": [
    "# Dự đoán xác suất cho tập kiểm tra\n",
    "X_scaled = scaler.transform(X)\n",
    "predictions = model.predict_proba(X_scaled)[:, 0]\n",
    "merged_df['Top_scorer'] = predictions\n",
    "x = merged_df[['Name','Top_scorer']].sort_values(by='Top_scorer', ascending=False)\n",
    "x\n"
   ]
  },
  {
   "cell_type": "code",
   "execution_count": 333,
   "metadata": {},
   "outputs": [
    {
     "name": "stdout",
     "output_type": "stream",
     "text": [
      "             Name  Top_scorer\n",
      "3       Joelinton    0.009897\n",
      "23  Mohamed Salah    0.011773\n",
      "36    Bukayo Saka    0.013399\n",
      "25      Luis Díaz    0.019510\n",
      "38      Evanilson    0.024033\n"
     ]
    }
   ],
   "source": [
    "X_scaled = scaler.transform(X)  # Chuẩn hóa toàn bộ dữ liệu X\n",
    "predictions = model.predict_proba(X_scaled)[:, 0]  # Xác suất của lớp 1\n",
    "merged_df['Top_scorer'] = predictions\n",
    "\n",
    "# Kiểm tra và sắp xếp kết quả\n",
    "if 'Name' in merged_df.columns:\n",
    "    result = merged_df[['Name', 'Top_scorer']].sort_values(by='Top_scorer', ascending=True)\n",
    "else:\n",
    "    result = merged_df[['Top_scorer']].sort_values(by='Top_scorer', ascending=True)\n",
    "\n",
    "print(result.head())\n"
   ]
  }
 ],
 "metadata": {
  "kernelspec": {
   "display_name": "Python 3",
   "language": "python",
   "name": "python3"
  },
  "language_info": {
   "codemirror_mode": {
    "name": "ipython",
    "version": 3
   },
   "file_extension": ".py",
   "mimetype": "text/x-python",
   "name": "python",
   "nbconvert_exporter": "python",
   "pygments_lexer": "ipython3",
   "version": "3.11.5"
  }
 },
 "nbformat": 4,
 "nbformat_minor": 2
}
