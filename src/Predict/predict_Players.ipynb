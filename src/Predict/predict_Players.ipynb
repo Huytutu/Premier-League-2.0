{
 "cells": [
  {
   "cell_type": "code",
   "execution_count": 701,
   "metadata": {},
   "outputs": [],
   "source": [
    "import pandas as pd\n",
    "from sklearn.model_selection import train_test_split\n",
    "from sklearn.preprocessing import StandardScaler\n",
    "from sklearn.linear_model import LogisticRegression\n",
    "from sklearn.ensemble import RandomForestClassifier\n",
    "from sklearn.metrics import classification_report, accuracy_score\n",
    "from sklearn.preprocessing import LabelEncoder"
   ]
  },
  {
   "cell_type": "markdown",
   "metadata": {},
   "source": [
    "Load and merged dataset"
   ]
  },
  {
   "cell_type": "code",
   "execution_count": 702,
   "metadata": {},
   "outputs": [],
   "source": [
    "file_paths = [\"../../data/Stats_csv/Processed_Forward_data.csv\",\n",
    "              \"../../data/Stats_csv/Processed_Midfielder_data.csv\"]\n",
    "dfs = []\n",
    "for file in file_paths:\n",
    "    dfs.append(pd.read_csv(file))\n",
    "common_columns = set(dfs[0].columns) \n",
    "for df in dfs[1:]:\n",
    "    common_columns &= set(df.columns) \n",
    "\n",
    "common_columns = list(common_columns)\n",
    "df = []\n",
    "for data in dfs:\n",
    "    df.append(data[common_columns])\n",
    "\n",
    "df = pd.concat(df,ignore_index=True)\n",
    "df = df.loc[df['Appearances']!=0]\n"
   ]
  },
  {
   "cell_type": "markdown",
   "metadata": {},
   "source": [
    "Data cleaning"
   ]
  },
  {
   "cell_type": "code",
   "execution_count": 703,
   "metadata": {},
   "outputs": [
    {
     "data": {
      "text/plain": [
       "Index(['Goals with right foot', 'Crosses', 'Height', 'Penalties scored',\n",
       "       'Shooting accuracy %', 'Big chances missed', 'Yellow cards',\n",
       "       'Blocked shots', 'Assists', 'Nationality', 'Freekicks scored', 'Shots',\n",
       "       'Offsides', 'Headed Clearance', 'Appearances', 'Position',\n",
       "       'Interceptions', 'Headed goals', 'Goals with left foot', 'Passes',\n",
       "       'Clearances', 'Hit woodwork', 'Tackles', 'Red cards', 'Date of Birth',\n",
       "       'Name', 'Goals', 'Losses', 'Club', 'Big Chances Created', 'Fouls',\n",
       "       'Wins', 'Goals per match', 'Passes per match', 'Shots on target'],\n",
       "      dtype='object')"
      ]
     },
     "execution_count": 703,
     "metadata": {},
     "output_type": "execute_result"
    }
   ],
   "source": [
    "for col in ['Position', 'Nationality', 'Club']:\n",
    "    df[col] = LabelEncoder().fit_transform(df[col])\n",
    "df.columns"
   ]
  },
  {
   "cell_type": "code",
   "execution_count": 704,
   "metadata": {},
   "outputs": [],
   "source": [
    "features = [\n",
    "    'Goals with right foot',\n",
    "    'Goals with left foot',\n",
    "    'Headed goals',\n",
    "    'Freekicks scored',\n",
    "    'Penalties scored',\n",
    "    'Shots on target',\n",
    "    'Big Chances Created',\n",
    "    'Offsides',\n",
    "    'Appearances',\n",
    "    'Height',\n",
    "    'Wins',\n",
    "    'Position',\n",
    "    'Goals'\n",
    "]\n",
    "max_goals = df['Goals'].max()\n",
    "df['TopScorer'] = (df['Goals'] == max_goals).astype(int)\n",
    "target = 'TopScorer'\n",
    "X = df[features]\n",
    "y = df[target]"
   ]
  },
  {
   "cell_type": "markdown",
   "metadata": {},
   "source": [
    "Split data"
   ]
  },
  {
   "cell_type": "code",
   "execution_count": 705,
   "metadata": {},
   "outputs": [],
   "source": [
    "X_train, X_test, y_train, y_test = train_test_split(X, y, test_size=0.3, random_state=42)"
   ]
  },
  {
   "cell_type": "code",
   "execution_count": 706,
   "metadata": {},
   "outputs": [],
   "source": [
    "scaler = StandardScaler()\n",
    "X_train_scaler = scaler.fit_transform(X_train)\n",
    "X_test_scaler = scaler.transform(X_test)"
   ]
  },
  {
   "cell_type": "code",
   "execution_count": 707,
   "metadata": {},
   "outputs": [
    {
     "name": "stdout",
     "output_type": "stream",
     "text": [
      "Prediction Accuracy (Logistic Regression): 1.0\n",
      "              precision    recall  f1-score   support\n",
      "\n",
      "           0       1.00      1.00      1.00        75\n",
      "\n",
      "    accuracy                           1.00        75\n",
      "   macro avg       1.00      1.00      1.00        75\n",
      "weighted avg       1.00      1.00      1.00        75\n",
      "\n"
     ]
    }
   ],
   "source": [
    "clf = RandomForestClassifier(n_estimators=100, random_state=42)\n",
    "clf.fit(X_train, y_train)\n",
    "y_pred = clf.predict(X_test)\n",
    "accuracy = accuracy_score(y_test, y_pred)\n",
    "print(\"Prediction Accuracy (Logistic Regression):\", accuracy)\n",
    "print(classification_report(y_test, y_pred))"
   ]
  },
  {
   "cell_type": "code",
   "execution_count": 709,
   "metadata": {},
   "outputs": [],
   "source": [
    "df['TopScorer_Probability'] = clf.predict_proba(X)[:, 1]\n",
    "result = df[['Name', 'TopScorer_Probability', 'Goals'] + features].sort_values(by='TopScorer_Probability', ascending=False)\n",
    "result.to_csv('../../data/Predict/players_top_scorer_probabilities.csv')"
   ]
  }
 ],
 "metadata": {
  "kernelspec": {
   "display_name": "Python 3",
   "language": "python",
   "name": "python3"
  },
  "language_info": {
   "codemirror_mode": {
    "name": "ipython",
    "version": 3
   },
   "file_extension": ".py",
   "mimetype": "text/x-python",
   "name": "python",
   "nbconvert_exporter": "python",
   "pygments_lexer": "ipython3",
   "version": "3.11.5"
  }
 },
 "nbformat": 4,
 "nbformat_minor": 2
}
