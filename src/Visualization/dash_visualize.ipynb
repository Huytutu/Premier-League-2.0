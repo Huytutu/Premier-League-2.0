{
 "cells": [
  {
   "cell_type": "markdown",
   "metadata": {},
   "source": [
    "Library"
   ]
  },
  {
   "cell_type": "code",
   "execution_count": 1,
   "metadata": {},
   "outputs": [],
   "source": [
    "from jupyter_dash import JupyterDash\n",
    "from dash import Dash, dcc, html\n",
    "import plotly.express as px\n",
    "import pandas as pd\n",
    "import selenium\n",
    "import matplotlib.pyplot as plt\n",
    "JupyterDash._server_threads.clear()\n",
    "import dash\n",
    "import plotly.graph_objects as go\n",
    "import random\n"
   ]
  },
  {
   "cell_type": "markdown",
   "metadata": {},
   "source": [
    "Get data"
   ]
  },
  {
   "cell_type": "code",
   "execution_count": 2,
   "metadata": {},
   "outputs": [],
   "source": [
    "file_path = \"../../Data/Club/all_data_of_clubs.csv\"\n",
    "data = pd.read_csv(file_path)\n",
    "data.rename(columns={\"Unnamed: 0\": \"Team\"}, inplace=True)\n",
    "midfielder_data = pd.read_csv(\"../../Data/Stats_csv/Processed_Midfielder_data.csv\")\n",
    "forward_data = pd.read_csv(\"../../Data/Stats_csv/Processed_Forward_data.csv\")\n",
    "defender_data = pd.read_csv(\"../../Data/Stats_csv/Processed_Defender_data.csv\")"
   ]
  },
  {
   "cell_type": "markdown",
   "metadata": {},
   "source": [
    "Prepare attacking data"
   ]
  },
  {
   "cell_type": "code",
   "execution_count": 3,
   "metadata": {},
   "outputs": [
    {
     "data": {
      "text/html": [
       "<div>\n",
       "<style scoped>\n",
       "    .dataframe tbody tr th:only-of-type {\n",
       "        vertical-align: middle;\n",
       "    }\n",
       "\n",
       "    .dataframe tbody tr th {\n",
       "        vertical-align: top;\n",
       "    }\n",
       "\n",
       "    .dataframe thead th {\n",
       "        text-align: right;\n",
       "    }\n",
       "</style>\n",
       "<table border=\"1\" class=\"dataframe\">\n",
       "  <thead>\n",
       "    <tr style=\"text-align: right;\">\n",
       "      <th></th>\n",
       "      <th>Team</th>\n",
       "      <th>Goals</th>\n",
       "      <th>Goals per match</th>\n",
       "      <th>Penalties scored</th>\n",
       "      <th>Shots</th>\n",
       "      <th>Shots on target</th>\n",
       "      <th>Big Chances Created</th>\n",
       "      <th>Shooting accuracy %</th>\n",
       "    </tr>\n",
       "  </thead>\n",
       "  <tbody>\n",
       "    <tr>\n",
       "      <th>0</th>\n",
       "      <td>Arsenal</td>\n",
       "      <td>21</td>\n",
       "      <td>1.75</td>\n",
       "      <td>0</td>\n",
       "      <td>171</td>\n",
       "      <td>61</td>\n",
       "      <td>32</td>\n",
       "      <td>36</td>\n",
       "    </tr>\n",
       "    <tr>\n",
       "      <th>1</th>\n",
       "      <td>Aston Villa</td>\n",
       "      <td>19</td>\n",
       "      <td>1.58</td>\n",
       "      <td>0</td>\n",
       "      <td>153</td>\n",
       "      <td>48</td>\n",
       "      <td>34</td>\n",
       "      <td>31</td>\n",
       "    </tr>\n",
       "    <tr>\n",
       "      <th>2</th>\n",
       "      <td>Bournemouth</td>\n",
       "      <td>16</td>\n",
       "      <td>1.33</td>\n",
       "      <td>1</td>\n",
       "      <td>186</td>\n",
       "      <td>57</td>\n",
       "      <td>26</td>\n",
       "      <td>31</td>\n",
       "    </tr>\n",
       "    <tr>\n",
       "      <th>3</th>\n",
       "      <td>Brentford</td>\n",
       "      <td>22</td>\n",
       "      <td>1.83</td>\n",
       "      <td>2</td>\n",
       "      <td>132</td>\n",
       "      <td>61</td>\n",
       "      <td>28</td>\n",
       "      <td>46</td>\n",
       "    </tr>\n",
       "    <tr>\n",
       "      <th>4</th>\n",
       "      <td>Brighton &amp; Hove Albion</td>\n",
       "      <td>21</td>\n",
       "      <td>1.75</td>\n",
       "      <td>0</td>\n",
       "      <td>165</td>\n",
       "      <td>56</td>\n",
       "      <td>23</td>\n",
       "      <td>34</td>\n",
       "    </tr>\n",
       "  </tbody>\n",
       "</table>\n",
       "</div>"
      ],
      "text/plain": [
       "                     Team  Goals  Goals per match  Penalties scored  Shots  \\\n",
       "0                 Arsenal     21             1.75                 0    171   \n",
       "1             Aston Villa     19             1.58                 0    153   \n",
       "2             Bournemouth     16             1.33                 1    186   \n",
       "3               Brentford     22             1.83                 2    132   \n",
       "4  Brighton & Hove Albion     21             1.75                 0    165   \n",
       "\n",
       "   Shots on target  Big Chances Created  Shooting accuracy %  \n",
       "0               61                   32                   36  \n",
       "1               48                   34                   31  \n",
       "2               57                   26                   31  \n",
       "3               61                   28                   46  \n",
       "4               56                   23                   34  "
      ]
     },
     "execution_count": 3,
     "metadata": {},
     "output_type": "execute_result"
    }
   ],
   "source": [
    "attacking_features = ['Goals', 'Goals per match', 'Penalties scored', 'Shots', 'Shots on target', 'Big Chances Created', 'Shooting accuracy %']\n",
    "attacking_data = data[['Team'] + attacking_features]\n",
    "attacking_data.head()"
   ]
  },
  {
   "cell_type": "markdown",
   "metadata": {},
   "source": [
    "Prepare defensive data"
   ]
  },
  {
   "cell_type": "code",
   "execution_count": 4,
   "metadata": {},
   "outputs": [],
   "source": [
    "defensive_features = ['Clean sheets', 'Goals Conceded', 'Tackles', 'Tackle success %', 'Errors leading to goal', 'Interceptions']\n",
    "defensive_data = data[['Team'] + defensive_features]"
   ]
  },
  {
   "cell_type": "markdown",
   "metadata": {},
   "source": [
    "Prepare prossessing data"
   ]
  },
  {
   "cell_type": "code",
   "execution_count": 5,
   "metadata": {},
   "outputs": [],
   "source": [
    "control_features = ['Passes', 'Passes per match', 'Pass accuracy %', 'Crosses', 'Cross accuracy %']\n",
    "control_data = data[['Team'] + control_features]\n",
    "\n",
    "control_fig = px.bar(\n",
    "    control_data.melt(id_vars='Team', value_vars=control_features, var_name='Metric', value_name='Value'),\n",
    "    x='Team', y='Value', color='Metric',\n",
    "    barmode='group',\n",
    "    title=\"Comparison of Control Metrics Across Teams\"\n",
    ")"
   ]
  },
  {
   "cell_type": "code",
   "execution_count": 6,
   "metadata": {},
   "outputs": [
    {
     "data": {
      "application/vnd.plotly.v1+json": {
       "config": {
        "plotlyServerURL": "https://plot.ly"
       },
       "data": [
        {
         "fill": "toself",
         "name": "Arsenal",
         "r": [
          "Arsenal",
          21,
          1.75,
          0,
          171,
          61,
          32,
          36,
          "Arsenal"
         ],
         "theta": [
          "Goals",
          "Goals per match",
          "Penalties scored",
          "Shots",
          "Shots on target",
          "Big Chances Created",
          "Shooting accurancy"
         ],
         "type": "scatterpolar"
        },
        {
         "fill": "toself",
         "name": "Aston Villa",
         "r": [
          "Aston Villa",
          19,
          1.58,
          0,
          153,
          48,
          34,
          31,
          "Aston Villa"
         ],
         "theta": [
          "Goals",
          "Goals per match",
          "Penalties scored",
          "Shots",
          "Shots on target",
          "Big Chances Created",
          "Shooting accurancy"
         ],
         "type": "scatterpolar"
        }
       ],
       "layout": {
        "polar": {
         "radialaxis": {
          "visible": true
         }
        },
        "showlegend": false,
        "template": {
         "data": {
          "bar": [
           {
            "error_x": {
             "color": "#2a3f5f"
            },
            "error_y": {
             "color": "#2a3f5f"
            },
            "marker": {
             "line": {
              "color": "#E5ECF6",
              "width": 0.5
             },
             "pattern": {
              "fillmode": "overlay",
              "size": 10,
              "solidity": 0.2
             }
            },
            "type": "bar"
           }
          ],
          "barpolar": [
           {
            "marker": {
             "line": {
              "color": "#E5ECF6",
              "width": 0.5
             },
             "pattern": {
              "fillmode": "overlay",
              "size": 10,
              "solidity": 0.2
             }
            },
            "type": "barpolar"
           }
          ],
          "carpet": [
           {
            "aaxis": {
             "endlinecolor": "#2a3f5f",
             "gridcolor": "white",
             "linecolor": "white",
             "minorgridcolor": "white",
             "startlinecolor": "#2a3f5f"
            },
            "baxis": {
             "endlinecolor": "#2a3f5f",
             "gridcolor": "white",
             "linecolor": "white",
             "minorgridcolor": "white",
             "startlinecolor": "#2a3f5f"
            },
            "type": "carpet"
           }
          ],
          "choropleth": [
           {
            "colorbar": {
             "outlinewidth": 0,
             "ticks": ""
            },
            "type": "choropleth"
           }
          ],
          "contour": [
           {
            "colorbar": {
             "outlinewidth": 0,
             "ticks": ""
            },
            "colorscale": [
             [
              0,
              "#0d0887"
             ],
             [
              0.1111111111111111,
              "#46039f"
             ],
             [
              0.2222222222222222,
              "#7201a8"
             ],
             [
              0.3333333333333333,
              "#9c179e"
             ],
             [
              0.4444444444444444,
              "#bd3786"
             ],
             [
              0.5555555555555556,
              "#d8576b"
             ],
             [
              0.6666666666666666,
              "#ed7953"
             ],
             [
              0.7777777777777778,
              "#fb9f3a"
             ],
             [
              0.8888888888888888,
              "#fdca26"
             ],
             [
              1,
              "#f0f921"
             ]
            ],
            "type": "contour"
           }
          ],
          "contourcarpet": [
           {
            "colorbar": {
             "outlinewidth": 0,
             "ticks": ""
            },
            "type": "contourcarpet"
           }
          ],
          "heatmap": [
           {
            "colorbar": {
             "outlinewidth": 0,
             "ticks": ""
            },
            "colorscale": [
             [
              0,
              "#0d0887"
             ],
             [
              0.1111111111111111,
              "#46039f"
             ],
             [
              0.2222222222222222,
              "#7201a8"
             ],
             [
              0.3333333333333333,
              "#9c179e"
             ],
             [
              0.4444444444444444,
              "#bd3786"
             ],
             [
              0.5555555555555556,
              "#d8576b"
             ],
             [
              0.6666666666666666,
              "#ed7953"
             ],
             [
              0.7777777777777778,
              "#fb9f3a"
             ],
             [
              0.8888888888888888,
              "#fdca26"
             ],
             [
              1,
              "#f0f921"
             ]
            ],
            "type": "heatmap"
           }
          ],
          "heatmapgl": [
           {
            "colorbar": {
             "outlinewidth": 0,
             "ticks": ""
            },
            "colorscale": [
             [
              0,
              "#0d0887"
             ],
             [
              0.1111111111111111,
              "#46039f"
             ],
             [
              0.2222222222222222,
              "#7201a8"
             ],
             [
              0.3333333333333333,
              "#9c179e"
             ],
             [
              0.4444444444444444,
              "#bd3786"
             ],
             [
              0.5555555555555556,
              "#d8576b"
             ],
             [
              0.6666666666666666,
              "#ed7953"
             ],
             [
              0.7777777777777778,
              "#fb9f3a"
             ],
             [
              0.8888888888888888,
              "#fdca26"
             ],
             [
              1,
              "#f0f921"
             ]
            ],
            "type": "heatmapgl"
           }
          ],
          "histogram": [
           {
            "marker": {
             "pattern": {
              "fillmode": "overlay",
              "size": 10,
              "solidity": 0.2
             }
            },
            "type": "histogram"
           }
          ],
          "histogram2d": [
           {
            "colorbar": {
             "outlinewidth": 0,
             "ticks": ""
            },
            "colorscale": [
             [
              0,
              "#0d0887"
             ],
             [
              0.1111111111111111,
              "#46039f"
             ],
             [
              0.2222222222222222,
              "#7201a8"
             ],
             [
              0.3333333333333333,
              "#9c179e"
             ],
             [
              0.4444444444444444,
              "#bd3786"
             ],
             [
              0.5555555555555556,
              "#d8576b"
             ],
             [
              0.6666666666666666,
              "#ed7953"
             ],
             [
              0.7777777777777778,
              "#fb9f3a"
             ],
             [
              0.8888888888888888,
              "#fdca26"
             ],
             [
              1,
              "#f0f921"
             ]
            ],
            "type": "histogram2d"
           }
          ],
          "histogram2dcontour": [
           {
            "colorbar": {
             "outlinewidth": 0,
             "ticks": ""
            },
            "colorscale": [
             [
              0,
              "#0d0887"
             ],
             [
              0.1111111111111111,
              "#46039f"
             ],
             [
              0.2222222222222222,
              "#7201a8"
             ],
             [
              0.3333333333333333,
              "#9c179e"
             ],
             [
              0.4444444444444444,
              "#bd3786"
             ],
             [
              0.5555555555555556,
              "#d8576b"
             ],
             [
              0.6666666666666666,
              "#ed7953"
             ],
             [
              0.7777777777777778,
              "#fb9f3a"
             ],
             [
              0.8888888888888888,
              "#fdca26"
             ],
             [
              1,
              "#f0f921"
             ]
            ],
            "type": "histogram2dcontour"
           }
          ],
          "mesh3d": [
           {
            "colorbar": {
             "outlinewidth": 0,
             "ticks": ""
            },
            "type": "mesh3d"
           }
          ],
          "parcoords": [
           {
            "line": {
             "colorbar": {
              "outlinewidth": 0,
              "ticks": ""
             }
            },
            "type": "parcoords"
           }
          ],
          "pie": [
           {
            "automargin": true,
            "type": "pie"
           }
          ],
          "scatter": [
           {
            "fillpattern": {
             "fillmode": "overlay",
             "size": 10,
             "solidity": 0.2
            },
            "type": "scatter"
           }
          ],
          "scatter3d": [
           {
            "line": {
             "colorbar": {
              "outlinewidth": 0,
              "ticks": ""
             }
            },
            "marker": {
             "colorbar": {
              "outlinewidth": 0,
              "ticks": ""
             }
            },
            "type": "scatter3d"
           }
          ],
          "scattercarpet": [
           {
            "marker": {
             "colorbar": {
              "outlinewidth": 0,
              "ticks": ""
             }
            },
            "type": "scattercarpet"
           }
          ],
          "scattergeo": [
           {
            "marker": {
             "colorbar": {
              "outlinewidth": 0,
              "ticks": ""
             }
            },
            "type": "scattergeo"
           }
          ],
          "scattergl": [
           {
            "marker": {
             "colorbar": {
              "outlinewidth": 0,
              "ticks": ""
             }
            },
            "type": "scattergl"
           }
          ],
          "scattermapbox": [
           {
            "marker": {
             "colorbar": {
              "outlinewidth": 0,
              "ticks": ""
             }
            },
            "type": "scattermapbox"
           }
          ],
          "scatterpolar": [
           {
            "marker": {
             "colorbar": {
              "outlinewidth": 0,
              "ticks": ""
             }
            },
            "type": "scatterpolar"
           }
          ],
          "scatterpolargl": [
           {
            "marker": {
             "colorbar": {
              "outlinewidth": 0,
              "ticks": ""
             }
            },
            "type": "scatterpolargl"
           }
          ],
          "scatterternary": [
           {
            "marker": {
             "colorbar": {
              "outlinewidth": 0,
              "ticks": ""
             }
            },
            "type": "scatterternary"
           }
          ],
          "surface": [
           {
            "colorbar": {
             "outlinewidth": 0,
             "ticks": ""
            },
            "colorscale": [
             [
              0,
              "#0d0887"
             ],
             [
              0.1111111111111111,
              "#46039f"
             ],
             [
              0.2222222222222222,
              "#7201a8"
             ],
             [
              0.3333333333333333,
              "#9c179e"
             ],
             [
              0.4444444444444444,
              "#bd3786"
             ],
             [
              0.5555555555555556,
              "#d8576b"
             ],
             [
              0.6666666666666666,
              "#ed7953"
             ],
             [
              0.7777777777777778,
              "#fb9f3a"
             ],
             [
              0.8888888888888888,
              "#fdca26"
             ],
             [
              1,
              "#f0f921"
             ]
            ],
            "type": "surface"
           }
          ],
          "table": [
           {
            "cells": {
             "fill": {
              "color": "#EBF0F8"
             },
             "line": {
              "color": "white"
             }
            },
            "header": {
             "fill": {
              "color": "#C8D4E3"
             },
             "line": {
              "color": "white"
             }
            },
            "type": "table"
           }
          ]
         },
         "layout": {
          "annotationdefaults": {
           "arrowcolor": "#2a3f5f",
           "arrowhead": 0,
           "arrowwidth": 1
          },
          "autotypenumbers": "strict",
          "coloraxis": {
           "colorbar": {
            "outlinewidth": 0,
            "ticks": ""
           }
          },
          "colorscale": {
           "diverging": [
            [
             0,
             "#8e0152"
            ],
            [
             0.1,
             "#c51b7d"
            ],
            [
             0.2,
             "#de77ae"
            ],
            [
             0.3,
             "#f1b6da"
            ],
            [
             0.4,
             "#fde0ef"
            ],
            [
             0.5,
             "#f7f7f7"
            ],
            [
             0.6,
             "#e6f5d0"
            ],
            [
             0.7,
             "#b8e186"
            ],
            [
             0.8,
             "#7fbc41"
            ],
            [
             0.9,
             "#4d9221"
            ],
            [
             1,
             "#276419"
            ]
           ],
           "sequential": [
            [
             0,
             "#0d0887"
            ],
            [
             0.1111111111111111,
             "#46039f"
            ],
            [
             0.2222222222222222,
             "#7201a8"
            ],
            [
             0.3333333333333333,
             "#9c179e"
            ],
            [
             0.4444444444444444,
             "#bd3786"
            ],
            [
             0.5555555555555556,
             "#d8576b"
            ],
            [
             0.6666666666666666,
             "#ed7953"
            ],
            [
             0.7777777777777778,
             "#fb9f3a"
            ],
            [
             0.8888888888888888,
             "#fdca26"
            ],
            [
             1,
             "#f0f921"
            ]
           ],
           "sequentialminus": [
            [
             0,
             "#0d0887"
            ],
            [
             0.1111111111111111,
             "#46039f"
            ],
            [
             0.2222222222222222,
             "#7201a8"
            ],
            [
             0.3333333333333333,
             "#9c179e"
            ],
            [
             0.4444444444444444,
             "#bd3786"
            ],
            [
             0.5555555555555556,
             "#d8576b"
            ],
            [
             0.6666666666666666,
             "#ed7953"
            ],
            [
             0.7777777777777778,
             "#fb9f3a"
            ],
            [
             0.8888888888888888,
             "#fdca26"
            ],
            [
             1,
             "#f0f921"
            ]
           ]
          },
          "colorway": [
           "#636efa",
           "#EF553B",
           "#00cc96",
           "#ab63fa",
           "#FFA15A",
           "#19d3f3",
           "#FF6692",
           "#B6E880",
           "#FF97FF",
           "#FECB52"
          ],
          "font": {
           "color": "#2a3f5f"
          },
          "geo": {
           "bgcolor": "white",
           "lakecolor": "white",
           "landcolor": "#E5ECF6",
           "showlakes": true,
           "showland": true,
           "subunitcolor": "white"
          },
          "hoverlabel": {
           "align": "left"
          },
          "hovermode": "closest",
          "mapbox": {
           "style": "light"
          },
          "paper_bgcolor": "white",
          "plot_bgcolor": "#E5ECF6",
          "polar": {
           "angularaxis": {
            "gridcolor": "white",
            "linecolor": "white",
            "ticks": ""
           },
           "bgcolor": "#E5ECF6",
           "radialaxis": {
            "gridcolor": "white",
            "linecolor": "white",
            "ticks": ""
           }
          },
          "scene": {
           "xaxis": {
            "backgroundcolor": "#E5ECF6",
            "gridcolor": "white",
            "gridwidth": 2,
            "linecolor": "white",
            "showbackground": true,
            "ticks": "",
            "zerolinecolor": "white"
           },
           "yaxis": {
            "backgroundcolor": "#E5ECF6",
            "gridcolor": "white",
            "gridwidth": 2,
            "linecolor": "white",
            "showbackground": true,
            "ticks": "",
            "zerolinecolor": "white"
           },
           "zaxis": {
            "backgroundcolor": "#E5ECF6",
            "gridcolor": "white",
            "gridwidth": 2,
            "linecolor": "white",
            "showbackground": true,
            "ticks": "",
            "zerolinecolor": "white"
           }
          },
          "shapedefaults": {
           "line": {
            "color": "#2a3f5f"
           }
          },
          "ternary": {
           "aaxis": {
            "gridcolor": "white",
            "linecolor": "white",
            "ticks": ""
           },
           "baxis": {
            "gridcolor": "white",
            "linecolor": "white",
            "ticks": ""
           },
           "bgcolor": "#E5ECF6",
           "caxis": {
            "gridcolor": "white",
            "linecolor": "white",
            "ticks": ""
           }
          },
          "title": {
           "x": 0.05
          },
          "xaxis": {
           "automargin": true,
           "gridcolor": "white",
           "linecolor": "white",
           "ticks": "",
           "title": {
            "standoff": 15
           },
           "zerolinecolor": "white",
           "zerolinewidth": 2
          },
          "yaxis": {
           "automargin": true,
           "gridcolor": "white",
           "linecolor": "white",
           "ticks": "",
           "title": {
            "standoff": 15
           },
           "zerolinecolor": "white",
           "zerolinewidth": 2
          }
         }
        },
        "title": {
         "text": "Radar Chart for Arsenal vs Aston Villa"
        }
       }
      }
     },
     "metadata": {},
     "output_type": "display_data"
    }
   ],
   "source": [
    "def update_radar_chart(team_name1, team_name2):\n",
    "\n",
    "    attacking_stats1 = attacking_data[attacking_data['Team'] == team_name1].iloc[0]\n",
    "    values1 = attacking_stats1.tolist()\n",
    "    values1 += values1[:1]\n",
    "\n",
    "    attacking_stats2 = attacking_data[attacking_data['Team'] == team_name2].iloc[0]\n",
    "    values2 = attacking_stats2.tolist()\n",
    "    values2 += values2[:1]\n",
    "\n",
    "\n",
    "    teams_radar_chart = go.Figure()\n",
    "    teams_radar_chart.add_trace(go.Scatterpolar(\n",
    "        r=values1,\n",
    "        theta=['Goals','Goals per match','Penalties scored','Shots','Shots on target','Big Chances Created', 'Shooting accurancy'],\n",
    "        fill='toself',\n",
    "        name=team_name1\n",
    "    ))\n",
    "\n",
    "    teams_radar_chart.add_trace(go.Scatterpolar(\n",
    "        r=values2,\n",
    "        theta=['Goals','Goals per match','Penalties scored','Shots','Shots on target','Big Chances Created', 'Shooting accurancy'],\n",
    "        fill='toself',\n",
    "        name=team_name2\n",
    "    ))\n",
    "\n",
    "\n",
    "    teams_radar_chart.update_layout(\n",
    "        polar=dict(\n",
    "            radialaxis=dict(visible=True),\n",
    "        ),\n",
    "        title=f\"Radar Chart for {team_name1} vs {team_name2}\",\n",
    "        showlegend=False\n",
    "    )\n",
    "    return teams_radar_chart\n",
    "\n",
    "update_radar_chart('Arsenal','Aston Villa')"
   ]
  },
  {
   "cell_type": "markdown",
   "metadata": {},
   "source": [
    "Heatmap of Correlations - Attacking Performance"
   ]
  },
  {
   "cell_type": "code",
   "execution_count": 7,
   "metadata": {},
   "outputs": [],
   "source": [
    "attack_data_corr = data[['Goals', 'Goals per match', 'Penalties scored', 'Shots', 'Shots on target',\n",
    "                         'Big Chances Created', 'Shooting accuracy %', 'Passes', 'Passes per match',\n",
    "                         'Pass accuracy %']].corr()\n",
    "\n",
    "heatmap_data = attack_data_corr.reset_index().melt(id_vars='index')\n",
    "heatmap_data.columns = ['Feature1', 'Feature2', 'Correlation']\n",
    "\n",
    "heatmap_fig = px.imshow(\n",
    "    attack_data_corr,\n",
    "    x=attack_data_corr.columns,\n",
    "    y=attack_data_corr.columns,\n",
    "    zmin=-1, zmax=1,\n",
    "    color_continuous_scale='RdBu',\n",
    "    title=\"Correlation Heatmap of Attack Metrics\",\n",
    "    labels={'color': 'Correlation'}\n",
    ")"
   ]
  },
  {
   "cell_type": "markdown",
   "metadata": {},
   "source": [
    "Heatmap of Correlations - Defensing Performance"
   ]
  },
  {
   "cell_type": "code",
   "execution_count": 8,
   "metadata": {},
   "outputs": [],
   "source": [
    "defense_data_corr = data[['Clean sheets', 'Goals Conceded', 'Tackles', 'Tackle success %', 'Interceptions', 'Saves',\n",
    "                          'Blocked shots', 'Clearances', 'Headed Clearance', 'Aerial Battles/Duels Won', 'Own goals',\n",
    "                          'Passes', 'Passes per match', 'Pass accuracy %']].corr()\n",
    "\n",
    "defense_heatmap_fig = px.imshow(\n",
    "    defense_data_corr,\n",
    "    x=defense_data_corr.columns,\n",
    "    y=defense_data_corr.columns,\n",
    "    zmin=-1, zmax=1,\n",
    "    color_continuous_scale='RdBu',\n",
    "    title=\"Correlation Heatmap of Defensive Metrics\",\n",
    "    labels={'color': 'Correlation'}\n",
    ")"
   ]
  },
  {
   "cell_type": "markdown",
   "metadata": {},
   "source": [
    "Top 10 best forward"
   ]
  },
  {
   "cell_type": "code",
   "execution_count": 9,
   "metadata": {},
   "outputs": [],
   "source": [
    "finish_features = ['Name','Headed goals', 'Goals with right foot', 'Goals with left foot', 'Penalties scored', 'Freekicks scored']\n",
    "forward_best_score = forward_data.sort_values(by='Goals', ascending=False).head(10)\n",
    "forward_best_score_features = forward_best_score[finish_features]\n",
    "fig_finish_features = px.bar(\n",
    "    forward_best_score_features.melt(id_vars='Name', value_vars=finish_features, var_name='Metrics', value_name='Value'),\n",
    "    x = 'Name',\n",
    "    y = 'Value',\n",
    "    color='Metrics',\n",
    "    barmode='group',\n",
    "    title='Comparison of Goal Scoring Features Among Players'\n",
    ")\n",
    "\n",
    "shot_features = ['Name', 'Shots', 'Shots on target', 'Shooting accuracy %', 'Hit woodwork', 'Big chances missed']\n",
    "forward_shot_features = forward_best_score[shot_features]\n",
    "fig_shot_features = px.bar(\n",
    "    forward_shot_features.melt(id_vars='Name', value_vars=shot_features, var_name='Metrics', value_name='Value'),\n",
    "    x = 'Name',\n",
    "    y = 'Value',\n",
    "    color = 'Metrics',\n",
    "    barmode = 'group',\n",
    "    color_discrete_sequence=['#b70ef1', '#0ed2f1', '#0ef148', '#f1c10e', '#f10e37']\n",
    ")\n"
   ]
  },
  {
   "cell_type": "markdown",
   "metadata": {},
   "source": [
    "Top 10 best midfielder"
   ]
  },
  {
   "cell_type": "code",
   "execution_count": 10,
   "metadata": {},
   "outputs": [],
   "source": [
    "best_midfielder_data = midfielder_data.sort_values(by='Assists', ascending=False).head(10)\n",
    "best_midfielder_data['Cross accuracy %'] = (\n",
    "    best_midfielder_data['Cross accuracy %']\n",
    "    .str.replace('%', '', regex=False)\n",
    "    .astype(float)\n",
    ")\n",
    "best_midfielder_data['Tackle success %'] = (\n",
    "    best_midfielder_data['Tackle success %']\n",
    "    .str.replace('%', '', regex=False)\n",
    "    .astype(float)\n",
    ")\n",
    "available_features = ['Assists', 'Passes', 'Passes per match', 'Big Chances Created',\n",
    "                      'Crosses', 'Cross accuracy %', 'Through balls', 'Accurate long balls']\n",
    "\n",
    "mid_attack_features = ['Goals', 'Goals per match', 'Freekicks scored', 'Shots', 'Shots on target', 'Shots on target']\n",
    "mid_defense_features = ['Tackles', 'Tackle success %', 'Interceptions', 'Duels won']"
   ]
  },
  {
   "cell_type": "markdown",
   "metadata": {},
   "source": [
    "Top 10 best defender"
   ]
  },
  {
   "cell_type": "code",
   "execution_count": 11,
   "metadata": {},
   "outputs": [],
   "source": [
    "defender_data['Tackle success %'] = (\n",
    "    defender_data['Tackle success %']\n",
    "    .astype(str)\n",
    "    .str.replace('%', '', regex=False) \n",
    "    .astype(float) \n",
    ")\n",
    "defender_data['Cross accuracy %'] = (\n",
    "    defender_data['Cross accuracy %']\n",
    "    .astype(str)\n",
    "    .str.replace('%', '', regex=False) \n",
    "    .astype(float) \n",
    ")\n",
    "numeric_columns = defender_data.select_dtypes(include=['float64', 'int64']).columns.tolist()"
   ]
  },
  {
   "cell_type": "markdown",
   "metadata": {},
   "source": [
    "Layout"
   ]
  },
  {
   "cell_type": "code",
   "execution_count": null,
   "metadata": {},
   "outputs": [
    {
     "name": "stderr",
     "output_type": "stream",
     "text": [
      "c:\\Users\\Admin\\AppData\\Local\\Programs\\Python\\Python312\\Lib\\site-packages\\dash\\dash.py:579: UserWarning:\n",
      "\n",
      "JupyterDash is deprecated, use Dash instead.\n",
      "See https://dash.plotly.com/dash-in-jupyter for more details.\n",
      "\n"
     ]
    },
    {
     "data": {
      "text/html": [
       "\n",
       "        <iframe\n",
       "            width=\"100%\"\n",
       "            height=\"650\"\n",
       "            src=\"http://127.0.0.1:8050/\"\n",
       "            frameborder=\"0\"\n",
       "            allowfullscreen\n",
       "            \n",
       "        ></iframe>\n",
       "        "
      ],
      "text/plain": [
       "<IPython.lib.display.IFrame at 0x1e7dcd28320>"
      ]
     },
     "metadata": {},
     "output_type": "display_data"
    },
    {
     "name": "stdout",
     "output_type": "stream",
     "text": [
      "Dash app running on http://127.0.0.1:8050/\n"
     ]
    }
   ],
   "source": [
    "app = JupyterDash(__name__)\n",
    "\n",
    "app.layout = html.Div([\n",
    "    html.H1(\"Football Clubs Performance Metrics\", style={'textAlign': 'center'}),\n",
    "\n",
    "    html.Div([\n",
    "        html.H2(\"Attacking Metrics Trends\", style={'textAlign': 'center'}),\n",
    "        dcc.Graph(\n",
    "            figure=px.line(\n",
    "                attacking_data.melt(id_vars='Team', value_vars=attacking_features, var_name='Metric', value_name='Value'),\n",
    "                x='Team', y='Value', color='Metric',\n",
    "                title=\"Attacking Metrics Trends Across Teams\"\n",
    "            )\n",
    "        )\n",
    "    ]),\n",
    "\n",
    "    html.Div([\n",
    "        html.H2(\"Defensive Metrics Stacked Bar\", style={'textAlign': 'center'}),\n",
    "        dcc.Graph(\n",
    "            figure=px.bar(\n",
    "                defensive_data.melt(id_vars='Team', value_vars=defensive_features, var_name='Metric', value_name='Value'),\n",
    "                x='Team', y='Value', color='Metric',\n",
    "                title=\"Defensive Metrics Distribution Across Teams\",\n",
    "                barmode='stack'\n",
    "            )\n",
    "        )\n",
    "    ]),\n",
    "\n",
    "    html.Div([\n",
    "        html.H2(\"Control Metrics Grouped Bar Chart\", style={'textAlign': 'center'}),\n",
    "        dcc.Graph(figure=control_fig)\n",
    "    ]),\n",
    "\n",
    "    html.Div([\n",
    "        html.H2(\"Correlation Heatmap of Attack Metrics\", style={'textAlign': 'center'}),\n",
    "        dcc.Graph(figure=heatmap_fig)\n",
    "    ]),\n",
    "    html.Div([\n",
    "        html.H2(\"Correlation Heatmap of Defensive Metrics\", style={'textAlign': 'center'}),\n",
    "        dcc.Graph(figure=defense_heatmap_fig)\n",
    "    ]),\n",
    "\n",
    "\n",
    "    html.Div([\n",
    "        html.H2(\"Comparison of Goal Scoring Features Among Players\", style={'textAlign': 'center'}),\n",
    "        dcc.Graph(figure=fig_finish_features)\n",
    "    ]),\n",
    "    html.Div([\n",
    "        html.H2(\"Comparison of Shot Features Among Players\", style={'textAlign': 'center'}),\n",
    "        dcc.Graph(figure=fig_shot_features)\n",
    "    ]),\n",
    "\n",
    "    html.Div([\n",
    "        html.H2(\"Top 10 Midfielders: Feature Comparison\", style={'textAlign': 'center'}),\n",
    "        html.Div([\n",
    "            html.Label(\"Select a Metric:\", style={'fontSize': '18px'}),\n",
    "            dcc.Dropdown(\n",
    "                id='feature-dropdown',\n",
    "                options=[{'label': feature, 'value': feature} for feature in available_features],\n",
    "                value='Assists',\n",
    "                style={'width': '50%', 'margin': 'auto'}\n",
    "            )\n",
    "        ], style={'textAlign': 'center', 'padding': '20px'}),\n",
    "        html.Div([\n",
    "            dcc.Graph(id='feature-comparison-chart')\n",
    "        ])\n",
    "    ]),\n",
    "    \n",
    "    html.H1(\"Top 10 Midfielders: Radar Chart of Attacking Metrics\", style={'textAlign': 'center'}),\n",
    "    \n",
    "    html.Div([\n",
    "        html.Label(\"Select a Player:\", style={'fontSize': '18px'}),\n",
    "        dcc.Dropdown(\n",
    "            id='player-dropdown',\n",
    "            options=[{'label': name, 'value': name} for name in best_midfielder_data['Name']],\n",
    "            value=best_midfielder_data['Name'].iloc[0],\n",
    "            style={'width': '50%', 'margin': 'auto'}\n",
    "        )\n",
    "    ], style={'textAlign': 'center', 'padding': '20px'}),\n",
    "    \n",
    "    html.Div([\n",
    "        dcc.Graph(id='radar-chart')\n",
    "    ]),\n",
    "    \n",
    "    html.H1(\"Top 10 Midfielders: Defensive Metrics Comparison\", style={'textAlign': 'center'}),\n",
    "    \n",
    "    html.Div([\n",
    "        html.Label(\"Select a Metric:\", style={'fontSize': '18px'}),\n",
    "        dcc.Dropdown(\n",
    "            id='mid-metric-dropdown',\n",
    "            options=[{'label': feature, 'value': feature} for feature in mid_defense_features],\n",
    "            value='Tackles', \n",
    "            style={'width': '50%', 'margin': 'auto'}\n",
    "        )\n",
    "    ], style={'textAlign': 'center', 'padding': '20px'}),\n",
    "    \n",
    "    html.Div([\n",
    "        dcc.Graph(id='defense-bar-chart')\n",
    "    ]),\n",
    "    \n",
    "    html.H1(\"Top 10 Defender by Selected Metric\", style={'textAlign': 'center'}),\n",
    "    \n",
    "    html.Div([\n",
    "        html.Label(\"Select a Metric:\", style={'fontSize': '18px'}),\n",
    "        dcc.Dropdown(\n",
    "            id='metric-dropdown',\n",
    "            options=[{'label': col, 'value': col} for col in numeric_columns],\n",
    "            value=numeric_columns[0] if numeric_columns else None,\n",
    "            style={'width': '50%', 'margin': 'auto'}\n",
    "        )\n",
    "    ], style={'textAlign': 'center', 'padding': '20px'}),\n",
    "    \n",
    "    html.Div([\n",
    "        dcc.Graph(id='metric-bar-chart')\n",
    "    ])\n",
    "\n",
    "])\n",
    "\n",
    "@app.callback(\n",
    "    dash.dependencies.Output('feature-comparison-chart', 'figure'),\n",
    "    [dash.dependencies.Input('feature-dropdown', 'value')]\n",
    ")\n",
    "def update_feature_chart(selected_feature):\n",
    "    color_sequence = px.colors.qualitative.Plotly\n",
    "    random.shuffle(color_sequence)\n",
    "    fig = px.bar(\n",
    "        best_midfielder_data,\n",
    "        x='Name',\n",
    "        y=selected_feature,\n",
    "        title=f\"Comparison of {selected_feature} for Top 10 Players\",\n",
    "        text=selected_feature,\n",
    "        color_discrete_sequence=color_sequence\n",
    "    )\n",
    "    fig.update_traces(texttemplate='%{text:.2s}', textposition='outside')\n",
    "    fig.update_layout(yaxis_title='Value', xaxis_title='Player', template='plotly_white')\n",
    "    return fig\n",
    "\n",
    "@app.callback(\n",
    "    dash.dependencies.Output('radar-chart', 'figure'),\n",
    "    [dash.dependencies.Input('player-dropdown', 'value')]\n",
    ")\n",
    "def update_radar_chart(player_name):\n",
    "    player_stats = best_midfielder_data[best_midfielder_data['Name'] == player_name][mid_attack_features].iloc[0]\n",
    "    values = player_stats.tolist()\n",
    "    values += values[:1]\n",
    "\n",
    "    radar_chart = go.Figure()\n",
    "    radar_chart.add_trace(go.Scatterpolar(\n",
    "        r=values,\n",
    "        theta=mid_attack_features + [mid_attack_features[0]], \n",
    "        fill='toself',\n",
    "        name=player_name\n",
    "    ))\n",
    "    radar_chart.update_layout(\n",
    "        polar=dict(\n",
    "            radialaxis=dict(visible=True),\n",
    "        ),\n",
    "        title=f\"Radar Chart for {player_name}\",\n",
    "        showlegend=False\n",
    "    )\n",
    "    return radar_chart\n",
    "\n",
    "@app.callback(\n",
    "    dash.dependencies.Output('defense-bar-chart', 'figure'),\n",
    "    [dash.dependencies.Input('mid-metric-dropdown', 'value')]\n",
    ")\n",
    "def update_bar_chart(selected_metric):\n",
    "    color_sequence = px.colors.qualitative.Plotly\n",
    "    random.shuffle(color_sequence)\n",
    "    fig = px.bar(\n",
    "        best_midfielder_data,\n",
    "        x='Name', \n",
    "        y=selected_metric, \n",
    "        title=f\"Comparison of {selected_metric} for Top 10 Players\",\n",
    "        text=selected_metric, \n",
    "        labels={'Name': 'Player', selected_metric: 'Value'},\n",
    "        color_discrete_sequence=color_sequence\n",
    "    )\n",
    "    fig.update_traces(texttemplate='%{text:.2s}', textposition='outside')\n",
    "    fig.update_layout(yaxis_title='Value', xaxis_title='Player', template='plotly_white')\n",
    "    return fig\n",
    "\n",
    "@app.callback(\n",
    "    dash.dependencies.Output('metric-bar-chart', 'figure'),\n",
    "    [dash.dependencies.Input('metric-dropdown', 'value')]\n",
    ")\n",
    "def update_bar_chart(selected_metric):\n",
    "    if selected_metric is None:\n",
    "        return px.bar(title=\"No Metric Selected\")\n",
    "    top_10_data = defender_data.nlargest(10, selected_metric)\n",
    "    color_sequence = px.colors.qualitative.Plotly\n",
    "    random.shuffle(color_sequence)\n",
    "    \n",
    "    fig = px.bar(\n",
    "        top_10_data,\n",
    "        x='Name', \n",
    "        y=selected_metric, \n",
    "        title=f\"Top 10 Players by {selected_metric}\",\n",
    "        text=selected_metric,\n",
    "        labels={'Name': 'Player', selected_metric: 'Value'},\n",
    "        color_discrete_sequence=color_sequence\n",
    "    )\n",
    "    fig.update_traces(texttemplate='%{text:.2s}', textposition='outside')\n",
    "    fig.update_layout(yaxis_title='Value', xaxis_title='Player', template='plotly_white')\n",
    "    return fig\n",
    "\n",
    "app.run_server(debug=True)\n"
   ]
  }
 ],
 "metadata": {
  "kernelspec": {
   "display_name": "Python 3",
   "language": "python",
   "name": "python3"
  },
  "language_info": {
   "codemirror_mode": {
    "name": "ipython",
    "version": 3
   },
   "file_extension": ".py",
   "mimetype": "text/x-python",
   "name": "python",
   "nbconvert_exporter": "python",
   "pygments_lexer": "ipython3",
   "version": "3.12.6"
  }
 },
 "nbformat": 4,
 "nbformat_minor": 2
}
