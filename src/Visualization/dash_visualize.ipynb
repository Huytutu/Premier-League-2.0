{
 "cells": [
  {
   "cell_type": "markdown",
   "metadata": {},
   "source": [
    "Library"
   ]
  },
  {
   "cell_type": "code",
   "execution_count": 3,
   "metadata": {},
   "outputs": [],
   "source": [
    "from jupyter_dash import JupyterDash\n",
    "from dash import Dash, dcc, html\n",
    "import plotly.express as px\n",
    "import pandas as pd\n",
    "import selenium"
   ]
  },
  {
   "cell_type": "markdown",
   "metadata": {},
   "source": [
    "Get data"
   ]
  },
  {
   "cell_type": "code",
   "execution_count": 4,
   "metadata": {},
   "outputs": [],
   "source": [
    "file_path = \"../../Data/Club/all_data_of_clubs.csv\"\n",
    "data = pd.read_csv(file_path)\n",
    "data.rename(columns={\"Unnamed: 0\": \"Team\"}, inplace=True)"
   ]
  },
  {
   "cell_type": "markdown",
   "metadata": {},
   "source": [
    "Prepare attacking data"
   ]
  },
  {
   "cell_type": "code",
   "execution_count": 5,
   "metadata": {},
   "outputs": [],
   "source": [
    "attacking_features = ['Goals', 'Goals per match', 'Penalties scored', 'Shots', 'Shots on target', 'Big Chances Created', 'Shooting accuracy %']\n",
    "attacking_data = data[['Team'] + attacking_features]"
   ]
  },
  {
   "cell_type": "markdown",
   "metadata": {},
   "source": [
    "Prepare defensive data"
   ]
  },
  {
   "cell_type": "code",
   "execution_count": 6,
   "metadata": {},
   "outputs": [],
   "source": [
    "defensive_features = ['Clean sheets', 'Goals Conceded', 'Tackles', 'Tackle success %', 'Errors leading to goal', 'Interceptions']\n",
    "defensive_data = data[['Team'] + defensive_features]"
   ]
  },
  {
   "cell_type": "markdown",
   "metadata": {},
   "source": [
    "Prepare prossessing data"
   ]
  },
  {
   "cell_type": "code",
   "execution_count": 7,
   "metadata": {},
   "outputs": [],
   "source": [
    "control_features = ['Passes', 'Passes per match', 'Pass accuracy %', 'Crosses', 'Cross accuracy %']\n",
    "control_data = data[['Team'] + control_features]\n",
    "\n",
    "control_fig = px.bar(\n",
    "    control_data.melt(id_vars='Team', value_vars=control_features, var_name='Metric', value_name='Value'),\n",
    "    x='Team', y='Value', color='Metric',\n",
    "    barmode='group',\n",
    "    title=\"Comparison of Control Metrics Across Teams\"\n",
    ")"
   ]
  },
  {
   "cell_type": "markdown",
   "metadata": {},
   "source": [
    "Heatmap of Correlations - Attacking Performance"
   ]
  },
  {
   "cell_type": "code",
   "execution_count": 8,
   "metadata": {},
   "outputs": [],
   "source": [
    "attack_data_corr = data[['Goals', 'Goals per match', 'Penalties scored', 'Shots', 'Shots on target',\n",
    "                         'Big Chances Created', 'Shooting accuracy %', 'Passes', 'Passes per match',\n",
    "                         'Pass accuracy %']].corr()\n",
    "\n",
    "heatmap_data = attack_data_corr.reset_index().melt(id_vars='index')\n",
    "heatmap_data.columns = ['Feature1', 'Feature2', 'Correlation']\n",
    "\n",
    "heatmap_fig = px.imshow(\n",
    "    attack_data_corr,\n",
    "    x=attack_data_corr.columns,\n",
    "    y=attack_data_corr.columns,\n",
    "    zmin=-1, zmax=1,\n",
    "    color_continuous_scale='RdBu',\n",
    "    title=\"Correlation Heatmap of Attack Metrics\",\n",
    "    labels={'color': 'Correlation'}\n",
    ")"
   ]
  },
  {
   "cell_type": "markdown",
   "metadata": {},
   "source": [
    "Heatmap of Correlations - Defensing Performance"
   ]
  },
  {
   "cell_type": "code",
   "execution_count": 9,
   "metadata": {},
   "outputs": [],
   "source": [
    "defense_data_corr = data[['Clean sheets', 'Goals Conceded', 'Tackles', 'Tackle success %', 'Interceptions', 'Saves',\n",
    "                          'Blocked shots', 'Clearances', 'Headed Clearance', 'Aerial Battles/Duels Won', 'Own goals',\n",
    "                          'Passes', 'Passes per match', 'Pass accuracy %']].corr()\n",
    "\n",
    "defense_heatmap_fig = px.imshow(\n",
    "    defense_data_corr,\n",
    "    x=defense_data_corr.columns,\n",
    "    y=defense_data_corr.columns,\n",
    "    zmin=-1, zmax=1,\n",
    "    color_continuous_scale='RdBu',\n",
    "    title=\"Correlation Heatmap of Defensive Metrics\",\n",
    "    labels={'color': 'Correlation'}\n",
    ")"
   ]
  },
  {
   "cell_type": "markdown",
   "metadata": {},
   "source": [
    "Yellow Cards and Fouls"
   ]
  },
  {
   "cell_type": "code",
   "execution_count": 10,
   "metadata": {},
   "outputs": [],
   "source": [
    "scatter_fig = px.scatter(\n",
    "    data_frame=data,\n",
    "    x='Fouls',\n",
    "    y='Yellow cards',\n",
    "    title=\"Scatter Plot of Fouls vs. Yellow Cards\",\n",
    "    labels={'Fouls': 'Fouls', 'Yellow cards': 'Yellow Cards'},\n",
    "    hover_name='Team',\n",
    "    template=\"plotly\",\n",
    "    height=600,  # Set height to ensure better display\n",
    ")"
   ]
  },
  {
   "cell_type": "markdown",
   "metadata": {},
   "source": [
    "Red Cards and Fouls"
   ]
  },
  {
   "cell_type": "code",
   "execution_count": 11,
   "metadata": {},
   "outputs": [],
   "source": [
    "scatter_red_fig = px.scatter(\n",
    "    data_frame=data,\n",
    "    x='Fouls',\n",
    "    y='Red cards',\n",
    "    title=\"Scatter Plot of Fouls vs. Red Cards\",\n",
    "    labels={'Fouls': 'Fouls', 'Red cards': 'Red Cards'},\n",
    "    hover_name='Team',\n",
    "    template=\"plotly\",\n",
    "    height=600,  # Set height for better visualization\n",
    ")\n"
   ]
  },
  {
   "cell_type": "markdown",
   "metadata": {},
   "source": [
    "Layout"
   ]
  },
  {
   "cell_type": "code",
   "execution_count": null,
   "metadata": {},
   "outputs": [],
   "source": [
    "app = JupyterDash(__name__)\n",
    "\n",
    "app.layout = html.Div([\n",
    "    html.H1(\"Football Clubs Performance Metrics\", style={'textAlign': 'center'}),\n",
    "\n",
    "    html.Div([\n",
    "        html.H2(\"Attacking Metrics Trends\", style={'textAlign': 'center'}),\n",
    "        dcc.Graph(\n",
    "            figure=px.line(\n",
    "                attacking_data.melt(id_vars='Team', value_vars=attacking_features, var_name='Metric', value_name='Value'),\n",
    "                x='Team', y='Value', color='Metric',\n",
    "                title=\"Attacking Metrics Trends Across Teams\"\n",
    "            )\n",
    "        )\n",
    "    ]),\n",
    "\n",
    "    html.Div([\n",
    "        html.H2(\"Defensive Metrics Stacked Bar\", style={'textAlign': 'center'}),\n",
    "        dcc.Graph(\n",
    "            figure=px.bar(\n",
    "                defensive_data.melt(id_vars='Team', value_vars=defensive_features, var_name='Metric', value_name='Value'),\n",
    "                x='Team', y='Value', color='Metric',\n",
    "                title=\"Defensive Metrics Distribution Across Teams\",\n",
    "                barmode='stack'\n",
    "            )\n",
    "        )\n",
    "    ]),\n",
    "    \n",
    "    html.Div([\n",
    "        html.H2(\"Control Metrics Grouped Bar Chart\", style={'textAlign': 'center'}),\n",
    "        dcc.Graph(figure=control_fig)\n",
    "    ]),\n",
    "    \n",
    "    html.Div([\n",
    "        html.H2(\"Correlation Heatmap of Attack Metrics\", style={'textAlign': 'center'}),\n",
    "        dcc.Graph(figure=heatmap_fig)\n",
    "    ]),\n",
    "    \n",
    "    html.Div([\n",
    "        html.H2(\"Correlation Heatmap of Defensive Metrics\", style={'textAlign': 'center'}),\n",
    "        dcc.Graph(figure=defense_heatmap_fig)\n",
    "    ]),\n",
    "\n",
    "    html.Div([\n",
    "        html.H2(\"Scatter Plot: Fouls vs. Yellow Cards\", style={'textAlign': 'center'}),\n",
    "        dcc.Graph(figure=scatter_fig)\n",
    "    ]),\n",
    "    \n",
    "    html.Div([\n",
    "        html.H2(\"Scatter Plot: Fouls vs. Red Cards\", style={'textAlign': 'center'}),\n",
    "        dcc.Graph(figure=scatter_red_fig)\n",
    "    ])\n",
    "\n",
    "])\n",
    "\n",
    "app.run_server(mode='external', debug=True)"
   ]
  }
 ],
 "metadata": {
  "kernelspec": {
   "display_name": "Python 3",
   "language": "python",
   "name": "python3"
  },
  "language_info": {
   "codemirror_mode": {
    "name": "ipython",
    "version": 3
   },
   "file_extension": ".py",
   "mimetype": "text/x-python",
   "name": "python",
   "nbconvert_exporter": "python",
   "pygments_lexer": "ipython3",
   "version": "3.11.5"
  }
 },
 "nbformat": 4,
 "nbformat_minor": 2
}
