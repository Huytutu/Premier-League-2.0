{
 "cells": [
  {
   "cell_type": "markdown",
   "metadata": {},
   "source": [
    "Library"
   ]
  },
  {
   "cell_type": "code",
   "execution_count": 14,
   "metadata": {},
   "outputs": [],
   "source": [
    "from jupyter_dash import JupyterDash\n",
    "from dash import Dash, dcc, html\n",
    "import plotly.express as px\n",
    "import pandas as pd\n",
    "import selenium\n",
    "import matplotlib.pyplot as plt\n",
    "JupyterDash._server_threads.clear()\n",
    "import dash\n"
   ]
  },
  {
   "cell_type": "markdown",
   "metadata": {},
   "source": [
    "Get data"
   ]
  },
  {
   "cell_type": "code",
   "execution_count": 15,
   "metadata": {},
   "outputs": [],
   "source": [
    "file_path = \"../../Data/Club/all_data_of_clubs.csv\"\n",
    "data = pd.read_csv(file_path)\n",
    "data.rename(columns={\"Unnamed: 0\": \"Team\"}, inplace=True)\n",
    "midfielder_data = pd.read_csv(\"../../Data/Stats_csv/Processed_Midfielder_data.csv\")\n",
    "forward_data = pd.read_csv(\"../../Data/Stats_csv/Processed_Forward_data.csv\")"
   ]
  },
  {
   "cell_type": "markdown",
   "metadata": {},
   "source": [
    "Prepare attacking data"
   ]
  },
  {
   "cell_type": "code",
   "execution_count": 16,
   "metadata": {},
   "outputs": [],
   "source": [
    "attacking_features = ['Goals', 'Goals per match', 'Penalties scored', 'Shots', 'Shots on target', 'Big Chances Created', 'Shooting accuracy %']\n",
    "attacking_data = data[['Team'] + attacking_features]"
   ]
  },
  {
   "cell_type": "markdown",
   "metadata": {},
   "source": [
    "Prepare defensive data"
   ]
  },
  {
   "cell_type": "code",
   "execution_count": 17,
   "metadata": {},
   "outputs": [],
   "source": [
    "defensive_features = ['Clean sheets', 'Goals Conceded', 'Tackles', 'Tackle success %', 'Errors leading to goal', 'Interceptions']\n",
    "defensive_data = data[['Team'] + defensive_features]"
   ]
  },
  {
   "cell_type": "markdown",
   "metadata": {},
   "source": [
    "Prepare prossessing data"
   ]
  },
  {
   "cell_type": "code",
   "execution_count": 18,
   "metadata": {},
   "outputs": [],
   "source": [
    "control_features = ['Passes', 'Passes per match', 'Pass accuracy %', 'Crosses', 'Cross accuracy %']\n",
    "control_data = data[['Team'] + control_features]\n",
    "\n",
    "control_fig = px.bar(\n",
    "    control_data.melt(id_vars='Team', value_vars=control_features, var_name='Metric', value_name='Value'),\n",
    "    x='Team', y='Value', color='Metric',\n",
    "    barmode='group',\n",
    "    title=\"Comparison of Control Metrics Across Teams\"\n",
    ")"
   ]
  },
  {
   "cell_type": "markdown",
   "metadata": {},
   "source": [
    "Heatmap of Correlations - Attacking Performance"
   ]
  },
  {
   "cell_type": "code",
   "execution_count": 19,
   "metadata": {},
   "outputs": [],
   "source": [
    "attack_data_corr = data[['Goals', 'Goals per match', 'Penalties scored', 'Shots', 'Shots on target',\n",
    "                         'Big Chances Created', 'Shooting accuracy %', 'Passes', 'Passes per match',\n",
    "                         'Pass accuracy %']].corr()\n",
    "\n",
    "heatmap_data = attack_data_corr.reset_index().melt(id_vars='index')\n",
    "heatmap_data.columns = ['Feature1', 'Feature2', 'Correlation']\n",
    "\n",
    "heatmap_fig = px.imshow(\n",
    "    attack_data_corr,\n",
    "    x=attack_data_corr.columns,\n",
    "    y=attack_data_corr.columns,\n",
    "    zmin=-1, zmax=1,\n",
    "    color_continuous_scale='RdBu',\n",
    "    title=\"Correlation Heatmap of Attack Metrics\",\n",
    "    labels={'color': 'Correlation'}\n",
    ")"
   ]
  },
  {
   "cell_type": "markdown",
   "metadata": {},
   "source": [
    "Heatmap of Correlations - Defensing Performance"
   ]
  },
  {
   "cell_type": "code",
   "execution_count": 20,
   "metadata": {},
   "outputs": [],
   "source": [
    "defense_data_corr = data[['Clean sheets', 'Goals Conceded', 'Tackles', 'Tackle success %', 'Interceptions', 'Saves',\n",
    "                          'Blocked shots', 'Clearances', 'Headed Clearance', 'Aerial Battles/Duels Won', 'Own goals',\n",
    "                          'Passes', 'Passes per match', 'Pass accuracy %']].corr()\n",
    "\n",
    "defense_heatmap_fig = px.imshow(\n",
    "    defense_data_corr,\n",
    "    x=defense_data_corr.columns,\n",
    "    y=defense_data_corr.columns,\n",
    "    zmin=-1, zmax=1,\n",
    "    color_continuous_scale='RdBu',\n",
    "    title=\"Correlation Heatmap of Defensive Metrics\",\n",
    "    labels={'color': 'Correlation'}\n",
    ")"
   ]
  },
  {
   "cell_type": "markdown",
   "metadata": {},
   "source": [
    "Top 10 best forward"
   ]
  },
  {
   "cell_type": "code",
   "execution_count": 21,
   "metadata": {},
   "outputs": [],
   "source": [
    "finish_features = ['Name','Headed goals', 'Goals with right foot', 'Goals with left foot', 'Penalties scored', 'Freekicks scored']\n",
    "forward_best_score = forward_data.sort_values(by='Goals', ascending=False).head(10)\n",
    "forward_best_score_features = forward_best_score[finish_features]\n",
    "fig_finish_features = px.bar(\n",
    "    forward_best_score_features.melt(id_vars='Name', value_vars=finish_features, var_name='Metrics', value_name='Value'),\n",
    "    x = 'Name',\n",
    "    y = 'Value',\n",
    "    color='Metrics',\n",
    "    barmode='group',\n",
    "    title='Comparison of Goal Scoring Features Among Players'\n",
    ")\n",
    "\n",
    "shot_features = ['Name', 'Shots', 'Shots on target', 'Shooting accuracy %', 'Hit woodwork', 'Big chances missed']\n",
    "forward_shot_features = forward_best_score[shot_features]\n",
    "fig_shot_features = px.bar(\n",
    "    forward_shot_features.melt(id_vars='Name', value_vars=shot_features, var_name='Metrics', value_name='Value'),\n",
    "    x = 'Name',\n",
    "    y = 'Value',\n",
    "    color = 'Metrics',\n",
    "    barmode = 'group',\n",
    "    color_discrete_sequence=['#b70ef1', '#0ed2f1', '#0ef148', '#f1c10e', '#f10e37']\n",
    ")\n"
   ]
  },
  {
   "cell_type": "markdown",
   "metadata": {},
   "source": [
    "Top 10 best midfielder"
   ]
  },
  {
   "cell_type": "code",
   "execution_count": 22,
   "metadata": {},
   "outputs": [],
   "source": [
    "best_midfielder_data = midfielder_data.sort_values(by='Assists', ascending=False).head(10)\n",
    "best_midfielder_data['Cross accuracy %'] = (\n",
    "    best_midfielder_data['Cross accuracy %']\n",
    "    .str.replace('%', '', regex=False)\n",
    "    .astype(float)\n",
    ")\n",
    "available_features = ['Assists', 'Passes', 'Passes per match', 'Big Chances Created',\n",
    "                      'Crosses', 'Cross accuracy %', 'Through balls', 'Accurate long balls']\n"
   ]
  },
  {
   "cell_type": "markdown",
   "metadata": {},
   "source": [
    "Layout"
   ]
  },
  {
   "cell_type": "code",
   "execution_count": 23,
   "metadata": {},
   "outputs": [
    {
     "name": "stderr",
     "output_type": "stream",
     "text": [
      "c:\\Users\\ADMIN\\AppData\\Local\\Programs\\Python\\Python312\\Lib\\site-packages\\dash\\dash.py:579: UserWarning:\n",
      "\n",
      "JupyterDash is deprecated, use Dash instead.\n",
      "See https://dash.plotly.com/dash-in-jupyter for more details.\n",
      "\n"
     ]
    },
    {
     "data": {
      "text/html": [
       "\n",
       "        <iframe\n",
       "            width=\"100%\"\n",
       "            height=\"650\"\n",
       "            src=\"http://127.0.0.1:8050/\"\n",
       "            frameborder=\"0\"\n",
       "            allowfullscreen\n",
       "            \n",
       "        ></iframe>\n",
       "        "
      ],
      "text/plain": [
       "<IPython.lib.display.IFrame at 0x1cf00109400>"
      ]
     },
     "metadata": {},
     "output_type": "display_data"
    },
    {
     "name": "stdout",
     "output_type": "stream",
     "text": [
      "Dash app running on http://127.0.0.1:8050/\n"
     ]
    }
   ],
   "source": [
    "app = JupyterDash(__name__)\n",
    "\n",
    "app.layout = html.Div([\n",
    "    html.H1(\"Football Clubs Performance Metrics\", style={'textAlign': 'center'}),\n",
    "\n",
    "    html.Div([\n",
    "        html.H2(\"Attacking Metrics Trends\", style={'textAlign': 'center'}),\n",
    "        dcc.Graph(\n",
    "            figure=px.line(\n",
    "                attacking_data.melt(id_vars='Team', value_vars=attacking_features, var_name='Metric', value_name='Value'),\n",
    "                x='Team', y='Value', color='Metric',\n",
    "                title=\"Attacking Metrics Trends Across Teams\"\n",
    "            )\n",
    "        )\n",
    "    ]),\n",
    "\n",
    "    html.Div([\n",
    "        html.H2(\"Defensive Metrics Stacked Bar\", style={'textAlign': 'center'}),\n",
    "        dcc.Graph(\n",
    "            figure=px.bar(\n",
    "                defensive_data.melt(id_vars='Team', value_vars=defensive_features, var_name='Metric', value_name='Value'),\n",
    "                x='Team', y='Value', color='Metric',\n",
    "                title=\"Defensive Metrics Distribution Across Teams\",\n",
    "                barmode='stack'\n",
    "            )\n",
    "        )\n",
    "    ]),\n",
    "\n",
    "    html.Div([\n",
    "        html.H2(\"Control Metrics Grouped Bar Chart\", style={'textAlign': 'center'}),\n",
    "        dcc.Graph(figure=control_fig)\n",
    "    ]),\n",
    "\n",
    "    html.Div([\n",
    "        html.H2(\"Correlation Heatmap of Attack Metrics\", style={'textAlign': 'center'}),\n",
    "        dcc.Graph(figure=heatmap_fig)\n",
    "    ]),\n",
    "    html.Div([\n",
    "        html.H2(\"Correlation Heatmap of Defensive Metrics\", style={'textAlign': 'center'}),\n",
    "        dcc.Graph(figure=defense_heatmap_fig)\n",
    "    ]),\n",
    "\n",
    "\n",
    "    html.Div([\n",
    "        html.H2(\"Comparison of Goal Scoring Features Among Players\", style={'textAlign': 'center'}),\n",
    "        dcc.Graph(figure=fig_finish_features)\n",
    "    ]),\n",
    "    html.Div([\n",
    "        html.H2(\"Comparison of Shot Features Among Players\", style={'textAlign': 'center'}),\n",
    "        dcc.Graph(figure=fig_shot_features)\n",
    "    ]),\n",
    "\n",
    "    html.Div([\n",
    "        html.H2(\"Top 10 Midfielders: Feature Comparison\", style={'textAlign': 'center'}),\n",
    "        html.Div([\n",
    "            html.Label(\"Select a Metric:\", style={'fontSize': '18px'}),\n",
    "            dcc.Dropdown(\n",
    "                id='feature-dropdown',\n",
    "                options=[{'label': feature, 'value': feature} for feature in available_features],\n",
    "                value='Assists',\n",
    "                style={'width': '50%', 'margin': 'auto'}\n",
    "            )\n",
    "        ], style={'textAlign': 'center', 'padding': '20px'}),\n",
    "        html.Div([\n",
    "            dcc.Graph(id='feature-comparison-chart')\n",
    "        ])\n",
    "    ])\n",
    "])\n",
    "\n",
    "@app.callback(\n",
    "    dash.dependencies.Output('feature-comparison-chart', 'figure'),\n",
    "    [dash.dependencies.Input('feature-dropdown', 'value')]\n",
    ")\n",
    "def update_feature_chart(selected_feature):\n",
    "    fig = px.bar(\n",
    "        best_midfielder_data,\n",
    "        x='Name',\n",
    "        y=selected_feature,\n",
    "        title=f\"Comparison of {selected_feature} for Top 10 Players\",\n",
    "        text=selected_feature\n",
    "    )\n",
    "    fig.update_traces(texttemplate='%{text:.2s}', textposition='outside')\n",
    "    fig.update_layout(yaxis_title='Value', xaxis_title='Player', template='plotly_white')\n",
    "    return fig\n",
    "\n",
    "app.run_server(debug=True)\n"
   ]
  }
 ],
 "metadata": {
  "kernelspec": {
   "display_name": "Python 3",
   "language": "python",
   "name": "python3"
  },
  "language_info": {
   "codemirror_mode": {
    "name": "ipython",
    "version": 3
   },
   "file_extension": ".py",
   "mimetype": "text/x-python",
   "name": "python",
   "nbconvert_exporter": "python",
   "pygments_lexer": "ipython3",
   "version": "3.12.6"
  }
 },
 "nbformat": 4,
 "nbformat_minor": 2
}
