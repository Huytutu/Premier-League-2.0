{
 "cells": [
  {
   "cell_type": "markdown",
   "metadata": {},
   "source": [
    "Library"
   ]
  },
  {
   "cell_type": "code",
   "execution_count": 8,
   "metadata": {},
   "outputs": [],
   "source": [
    "import pandas as pd"
   ]
  },
  {
   "cell_type": "code",
   "execution_count": null,
   "metadata": {},
   "outputs": [],
   "source": [
    "club_data = pd.read_csv(\"../../data/Club/all_data_of_clubs.csv\")\n",
    "club_data\n",
    "goal_keeper_data = pd.read_csv(\"../../data/Stats_csv/Processed_Goalkeeper_data.csv\")\n",
    "defender_data = pd.read_csv(\"../../data/Stats_csv/Processed_Defender_data.csv\")\n",
    "midfielder_data = pd.read_csv(\"../../data/Stats_csv/Processed_Midfielder_data.csv\")\n",
    "forward_data = pd.read_csv(\"../../data/Stats_csv/Processed_Forward_data.csv\")\n",
    "club_player_data = "
   ]
  }
 ],
 "metadata": {
  "kernelspec": {
   "display_name": "Python 3",
   "language": "python",
   "name": "python3"
  },
  "language_info": {
   "codemirror_mode": {
    "name": "ipython",
    "version": 3
   },
   "file_extension": ".py",
   "mimetype": "text/x-python",
   "name": "python",
   "nbconvert_exporter": "python",
   "pygments_lexer": "ipython3",
   "version": "3.12.6"
  }
 },
 "nbformat": 4,
 "nbformat_minor": 2
}
