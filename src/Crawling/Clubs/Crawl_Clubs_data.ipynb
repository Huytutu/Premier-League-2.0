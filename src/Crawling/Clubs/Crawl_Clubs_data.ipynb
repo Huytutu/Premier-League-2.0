{
 "cells": [
  {
   "cell_type": "markdown",
   "metadata": {},
   "source": [
    "Library\n"
   ]
  },
  {
   "cell_type": "code",
   "execution_count": 6,
   "metadata": {},
   "outputs": [],
   "source": [
    "import pandas as pd\n",
    "import numpy as np\n",
    "from selenium import webdriver\n",
    "from selenium.webdriver.common.by import By\n",
    "from selenium.webdriver.support.ui import Select\n",
    "from selenium.webdriver.chrome.service import Service\n",
    "from selenium.webdriver.chrome.options import Options\n",
    "import time\n",
    "from difflib import SequenceMatcher"
   ]
  },
  {
   "cell_type": "markdown",
   "metadata": {},
   "source": [
    "Chrome Options"
   ]
  },
  {
   "cell_type": "code",
   "execution_count": 7,
   "metadata": {},
   "outputs": [],
   "source": [
    "chrome_options = Options()\n",
    "chrome_options.add_argument(\"--headless\")\n",
    "chrome_options.add_argument(\"--disable-gpu\")\n",
    "chrome_options.add_argument(\"--window-size=1920,1080\")"
   ]
  },
  {
   "cell_type": "markdown",
   "metadata": {},
   "source": [
    "Get all link of all club"
   ]
  },
  {
   "cell_type": "code",
   "execution_count": 8,
   "metadata": {},
   "outputs": [
    {
     "name": "stdout",
     "output_type": "stream",
     "text": [
      "Arsenal\n",
      "https://www.premierleague.com/clubs/1/Arsenal/stats?se=719\n",
      "Aston Villa\n",
      "https://www.premierleague.com/clubs/2/Aston-Villa/stats?se=719\n",
      "Bournemouth\n",
      "https://www.premierleague.com/clubs/127/Bournemouth/stats?se=719\n",
      "Brentford\n",
      "https://www.premierleague.com/clubs/130/Brentford/stats?se=719\n",
      "Brighton & Hove Albion\n",
      "https://www.premierleague.com/clubs/131/Brighton-and-Hove-Albion/stats?se=719\n",
      "Chelsea\n",
      "https://www.premierleague.com/clubs/4/Chelsea/stats?se=719\n",
      "Crystal Palace\n",
      "https://www.premierleague.com/clubs/6/Crystal-Palace/stats?se=719\n",
      "Everton\n",
      "https://www.premierleague.com/clubs/7/Everton/stats?se=719\n",
      "Fulham\n",
      "https://www.premierleague.com/clubs/34/Fulham/stats?se=719\n",
      "Ipswich Town\n",
      "https://www.premierleague.com/clubs/8/Ipswich-Town/stats?se=719\n",
      "Leicester City\n",
      "https://www.premierleague.com/clubs/26/Leicester-City/stats?se=719\n",
      "Liverpool\n",
      "https://www.premierleague.com/clubs/10/Liverpool/stats?se=719\n",
      "Manchester City\n",
      "https://www.premierleague.com/clubs/11/Manchester-City/stats?se=719\n",
      "Manchester United\n",
      "https://www.premierleague.com/clubs/12/Manchester-United/stats?se=719\n",
      "Newcastle United\n",
      "https://www.premierleague.com/clubs/23/Newcastle-United/stats?se=719\n",
      "Nottingham Forest\n",
      "https://www.premierleague.com/clubs/15/Nottingham-Forest/stats?se=719\n",
      "Southampton\n",
      "https://www.premierleague.com/clubs/20/Southampton/stats?se=719\n",
      "Tottenham Hotspur\n",
      "https://www.premierleague.com/clubs/21/Tottenham-Hotspur/stats?se=719\n",
      "West Ham United\n",
      "https://www.premierleague.com/clubs/25/West-Ham-United/stats?se=719\n",
      "Wolverhampton Wanderers\n",
      "https://www.premierleague.com/clubs/38/Wolverhampton-Wanderers/stats?se=719\n"
     ]
    }
   ],
   "source": [
    "driver = webdriver.Chrome(options=chrome_options)\n",
    "url = 'https://www.premierleague.com/clubs'\n",
    "driver.get(url)\n",
    "time.sleep(5)\n",
    "clubs = driver.find_elements(By.CLASS_NAME, 'club-card-wrapper')\n",
    "name_clubs = []\n",
    "link_clubs = []\n",
    "\n",
    "for club in clubs:\n",
    "    name = club.find_element(By.CLASS_NAME, 'club-card__name').text\n",
    "    name_clubs.append(name)\n",
    "    print(name)\n",
    "    link = club.find_element(By.TAG_NAME, 'a').get_attribute('href')\n",
    "    link = link.replace(\"overview\", \"stats\")\n",
    "    link += \"?se=719\"\n",
    "    print(link)\n",
    "    link_clubs.append(link)\n",
    "\n",
    "link_all_club = {\n",
    "    \"name_club\": name_clubs,\n",
    "    \"link_club\": link_clubs,\n",
    "}\n",
    "\n",
    "data_frame_link_all_club = pd.DataFrame(link_all_club, index=link_all_club['name_club'])\n",
    "data_frame_link_all_club.to_csv('../../../Data/Club/link_all_club.csv', index=False)\n"
   ]
  },
  {
   "cell_type": "markdown",
   "metadata": {},
   "source": [
    "Get stats of all club"
   ]
  },
  {
   "cell_type": "code",
   "execution_count": 13,
   "metadata": {},
   "outputs": [
    {
     "name": "stdout",
     "output_type": "stream",
     "text": [
      "Arsenal\n",
      "Goals: 26\n",
      "Goals per match: 2.00\n",
      "Shots: 187\n",
      "Shots on target: 68\n",
      "Shooting accuracy %: 36\n",
      "Penalties scored: 2\n",
      "Big Chances Created: 35\n",
      "Hit woodwork: 2\n",
      "Passes: 5709\n",
      "Passes per match: 439.15\n",
      "Pass accuracy %: 85\n",
      "Crosses: 234\n",
      "Cross accuracy %: 23\n",
      "Clean sheets: 4\n",
      "Goals Conceded: 14\n",
      "Goals conceded per match: 1.08\n",
      "Saves: 37\n",
      "Tackles: 220\n",
      "Tackle success %: 61\n",
      "Blocked shots: 52\n",
      "Interceptions: 89\n",
      "Clearances: 250\n",
      "Headed Clearance: 128\n",
      "Aerial Battles/Duels Won: 808\n",
      "Errors leading to goal: 0\n",
      "Own goals: 0\n",
      "Yellow cards: 30\n",
      "Red cards: 3\n",
      "Fouls: 84\n",
      "Offsides: 24\n"
     ]
    },
    {
     "ename": "KeyboardInterrupt",
     "evalue": "",
     "output_type": "error",
     "traceback": [
      "\u001b[1;31m---------------------------------------------------------------------------\u001b[0m",
      "\u001b[1;31mKeyboardInterrupt\u001b[0m                         Traceback (most recent call last)",
      "Cell \u001b[1;32mIn[13], line 10\u001b[0m\n\u001b[0;32m      8\u001b[0m driver \u001b[38;5;241m=\u001b[39m webdriver\u001b[38;5;241m.\u001b[39mChrome(options\u001b[38;5;241m=\u001b[39mchrome_options)\n\u001b[0;32m      9\u001b[0m driver\u001b[38;5;241m.\u001b[39mget(url[\u001b[38;5;241m0\u001b[39m])\n\u001b[1;32m---> 10\u001b[0m \u001b[43mtime\u001b[49m\u001b[38;5;241;43m.\u001b[39;49m\u001b[43msleep\u001b[49m\u001b[43m(\u001b[49m\u001b[38;5;241;43m5\u001b[39;49m\u001b[43m)\u001b[49m\n\u001b[0;32m     11\u001b[0m all_data_of_club \u001b[38;5;241m=\u001b[39m driver\u001b[38;5;241m.\u001b[39mfind_elements(By\u001b[38;5;241m.\u001b[39mCLASS_NAME, \u001b[38;5;124m\"\u001b[39m\u001b[38;5;124mall-stats__regular-stat-container\u001b[39m\u001b[38;5;124m\"\u001b[39m)\n\u001b[0;32m     12\u001b[0m name \u001b[38;5;241m=\u001b[39m driver\u001b[38;5;241m.\u001b[39mfind_element(By\u001b[38;5;241m.\u001b[39mCLASS_NAME, \u001b[38;5;124m'\u001b[39m\u001b[38;5;124mclub-header__team-name\u001b[39m\u001b[38;5;124m'\u001b[39m)\u001b[38;5;241m.\u001b[39mtext\n",
      "\u001b[1;31mKeyboardInterrupt\u001b[0m: "
     ]
    }
   ],
   "source": [
    "df_link = pd.read_csv('../../../Data/Club/link_all_club.csv').copy()\n",
    "\n",
    "df_link = pd.DataFrame(data=list(df_link['link_club']), index=list(df_link['name_club']))\n",
    "\n",
    "all_data_of_clubs = []\n",
    "\n",
    "for url in df_link.values:\n",
    "    driver = webdriver.Chrome(options=chrome_options)\n",
    "    driver.get(url[0])\n",
    "    time.sleep(5)\n",
    "    all_data_of_club = driver.find_elements(By.CLASS_NAME, \"all-stats__regular-stat-container\")\n",
    "    name = driver.find_element(By.CLASS_NAME, 'club-header__team-name').text\n",
    "    print(name)\n",
    "    record = dict()\n",
    "    for data in all_data_of_club:\n",
    "        key = data.find_element(By.CLASS_NAME, 'all-stats__regular-stat-name').text\n",
    "        value = data.find_element(By.CLASS_NAME, 'allStatContainer').text\n",
    "        if value.__contains__(\"%\"):\n",
    "            value = value[:-1]\n",
    "            record[key] = int(value)\n",
    "        elif value.__contains__(\".\"): \n",
    "            record[key] = float(value)\n",
    "        elif value.__contains__(\",\"):\n",
    "            value = value.replace(\",\", \"\")\n",
    "            record[key] = int(value)\n",
    "        else:\n",
    "            record[key] = int(value)\n",
    "        \n",
    "        print(key + \": \" + value)\n",
    "        \n",
    "    all_data_of_clubs.append(record)\n",
    "all_data_of_clubs_df = pd.DataFrame(all_data_of_clubs, index=link_all_club['name_club'])"
   ]
  },
  {
   "cell_type": "markdown",
   "metadata": {},
   "source": [
    "Compare two name functions"
   ]
  },
  {
   "cell_type": "code",
   "execution_count": null,
   "metadata": {},
   "outputs": [],
   "source": [
    "premier_league_clubs = {\n",
    "    \"Arsenal\": \"Arsenal\",\n",
    "    \"Aston Villa\": \"Aston Villa\",\n",
    "    \"Bournemouth\": \"AFC Bournemouth\",\n",
    "    \"Brentford\": \"Brentford\",\n",
    "    \"Brighton\": \"Brighton & Hove Albion\",\n",
    "    \"Chelsea\": \"Chelsea\",\n",
    "    \"Crystal Palace\": \"Crystal Palace\",\n",
    "    \"Everton\": \"Everton\",\n",
    "    \"Fulham\": \"Fulham\",\n",
    "    \"Ipswich\": \"Ipswich Town\",\n",
    "    \"Leicester\": \"Leicester City\",\n",
    "    \"Liverpool\": \"Liverpool\",\n",
    "    \"Man City\": \"Manchester City\",\n",
    "    \"Man Utd\": \"Manchester United\",\n",
    "    \"Newcastle\": \"Newcastle United\",\n",
    "    \"Nott'm Forest\": \"Nottingham Forest\",\n",
    "    \"Southampton\": \"Southampton\",\n",
    "    \"Spurs\": \"Tottenham Hotspur\",\n",
    "    \"West Ham\": \"West Ham United\",\n",
    "    \"Wolves\": \"Wolverhampton Wanderers\",\n",
    "}\n"
   ]
  },
  {
   "cell_type": "markdown",
   "metadata": {},
   "source": [
    "Get fixtures of all club"
   ]
  },
  {
   "cell_type": "code",
   "execution_count": null,
   "metadata": {},
   "outputs": [
    {
     "name": "stdout",
     "output_type": "stream",
     "text": [
      "Arsenal\n",
      "['West Ham United', 'Manchester United', 'Fulham', 'Everton', 'Crystal Palace', 'Ipswich Town', 'Brentford', 'Brighton & Hove Albion', 'Tottenham Hotspur', 'Aston Villa', 'Wolverhampton Wanderers', 'Manchester City', 'Leicester City', 'West Ham United', 'Nottingham Forest', 'Manchester United', 'Chelsea', 'Fulham', 'Everton', 'Brentford', 'Ipswich Town', 'Crystal Palace', 'AFC Bournemouth', 'Liverpool', 'Newcastle United', 'Southampton']\n",
      "Aston Villa\n",
      "['Chelsea', 'Brentford', 'Southampton', 'Nottingham Forest', 'Manchester City', 'Newcastle United', 'Brighton & Hove Albion', 'Leicester City', 'Everton', 'Arsenal', 'West Ham United', 'Wolverhampton Wanderers', 'Ipswich Town', 'Chelsea', 'Crystal Palace', 'Brentford', 'Liverpool', 'Brighton & Hove Albion', 'Nottingham Forest', 'Southampton', 'Newcastle United', 'Manchester City', 'Fulham', 'AFC Bournemouth', 'Tottenham Hotspur', 'Manchester United']\n",
      "Bournemouth\n",
      "['AFC Bournemouth', 'Tottenham Hotspur', 'AFC Bournemouth', 'West Ham United', 'AFC Bournemouth', 'Crystal Palace', 'AFC Bournemouth', 'Everton', 'AFC Bournemouth', 'AFC Bournemouth', 'Nottingham Forest', 'Liverpool', 'AFC Bournemouth', 'Wolverhampton Wanderers', 'AFC Bournemouth', 'AFC Bournemouth', 'Brentford', 'Ipswich Town', 'AFC Bournemouth', 'Fulham', 'AFC Bournemouth', 'Manchester United', 'AFC Bournemouth', 'Aston Villa', 'AFC Bournemouth', 'Leicester City']\n",
      "Brentford\n",
      "['Leicester City', 'Aston Villa', 'Newcastle United', 'Chelsea', 'Nottingham Forest', 'Brighton & Hove Albion', 'Arsenal', 'Southampton', 'Manchester City', 'Liverpool', 'Crystal Palace', 'Tottenham Hotspur', 'West Ham United', 'Leicester City', 'Everton', 'Aston Villa', 'AFC Bournemouth', 'Newcastle United', 'Chelsea', 'Arsenal', 'Brighton & Hove Albion', 'Nottingham Forest', 'Manchester United', 'Ipswich Town', 'Fulham', 'Wolverhampton Wanderers']\n",
      "Brighton & Hove Albion\n",
      "['Southampton', 'Fulham', 'Leicester City', 'Crystal Palace', 'West Ham United', 'Brentford', 'Aston Villa', 'Arsenal', 'Ipswich Town', 'Manchester United', 'Everton', 'Nottingham Forest', 'Chelsea', 'Southampton', 'AFC Bournemouth', 'Fulham', 'Manchester City', 'Aston Villa', 'Crystal Palace', 'Leicester City', 'Brentford', 'West Ham United', 'Newcastle United', 'Wolverhampton Wanderers', 'Liverpool', 'Tottenham Hotspur']\n",
      "Chelsea\n",
      "['Aston Villa', 'Southampton', 'Tottenham Hotspur', 'Brentford', 'Everton', 'Fulham', 'Ipswich Town', 'Crystal Palace', 'AFC Bournemouth', 'Wolverhampton Wanderers', 'Manchester City', 'West Ham United', 'Brighton & Hove Albion', 'Aston Villa', 'Southampton', 'Leicester City', 'Arsenal', 'Tottenham Hotspur', 'Brentford', 'Ipswich Town', 'Fulham', 'Everton', 'Liverpool', 'Newcastle United', 'Manchester United', 'Nottingham Forest']\n",
      "Crystal Palace\n",
      "['Newcastle United', 'Ipswich Town', 'Manchester City', 'Brighton & Hove Albion', 'Arsenal', 'AFC Bournemouth', 'Southampton', 'Chelsea', 'Leicester City', 'West Ham United', 'Brentford', 'Manchester United', 'Everton', 'Fulham', 'Aston Villa', 'Ipswich Town', 'Newcastle United', 'Southampton', 'Brighton & Hove Albion', 'Manchester City', 'AFC Bournemouth', 'Arsenal', 'Nottingham Forest', 'Tottenham Hotspur', 'Wolverhampton Wanderers', 'Liverpool']\n",
      "Everton\n",
      "['Manchester United', 'Wolverhampton Wanderers', 'Liverpool', 'Arsenal', 'Chelsea', 'Manchester City', 'Nottingham Forest', 'AFC Bournemouth', 'Aston Villa', 'Tottenham Hotspur', 'Brighton & Hove Albion', 'Leicester City', 'Crystal Palace', 'Manchester United', 'Brentford', 'Wolverhampton Wanderers', 'West Ham United', 'Liverpool', 'Arsenal', 'Nottingham Forest', 'Manchester City', 'Chelsea', 'Ipswich Town', 'Fulham', 'Southampton', 'Newcastle United']\n",
      "Fulham\n",
      "['Tottenham Hotspur', 'Brighton & Hove Albion', 'Arsenal', 'Liverpool', 'Southampton', 'Chelsea', 'AFC Bournemouth', 'Ipswich Town', 'West Ham United', 'Leicester City', 'Manchester United', 'Newcastle United', 'Nottingham Forest', 'Crystal Palace', 'Wolverhampton Wanderers', 'Brighton & Hove Albion', 'Tottenham Hotspur', 'Arsenal', 'Liverpool', 'AFC Bournemouth', 'Chelsea', 'Southampton', 'Aston Villa', 'Everton', 'Brentford', 'Manchester City']\n",
      "Ipswich Town\n",
      "['Nottingham Forest', 'Crystal Palace', 'AFC Bournemouth', 'Wolverhampton Wanderers', 'Newcastle United', 'Arsenal', 'Chelsea', 'Fulham', 'Brighton & Hove Albion', 'Manchester City', 'Liverpool', 'Southampton', 'Aston Villa', 'Tottenham Hotspur', 'Manchester United', 'Crystal Palace', 'Nottingham Forest', 'AFC Bournemouth', 'Wolverhampton Wanderers', 'Chelsea', 'Arsenal', 'Newcastle United', 'Everton', 'Brentford', 'Leicester City', 'West Ham United']\n",
      "Leicester City\n",
      "['Brentford', 'West Ham United', 'Brighton & Hove Albion', 'Newcastle United', 'Wolverhampton Wanderers', 'Liverpool', 'Manchester City', 'Aston Villa', 'Crystal Palace', 'Fulham', 'Tottenham Hotspur', 'Everton', 'Arsenal', 'Brentford', 'West Ham United', 'Chelsea', 'Manchester United', 'Manchester City', 'Newcastle United', 'Brighton & Hove Albion', 'Liverpool', 'Wolverhampton Wanderers', 'Southampton', 'Nottingham Forest', 'Ipswich Town', 'AFC Bournemouth']\n",
      "Liverpool\n",
      "['Manchester City', 'Newcastle United', 'Everton', 'Fulham', 'Tottenham Hotspur', 'Leicester City', 'West Ham United', 'Manchester United', 'Nottingham Forest', 'Brentford', 'Ipswich Town', 'AFC Bournemouth', 'Wolverhampton Wanderers', 'Manchester City', 'Newcastle United', 'Southampton', 'Aston Villa', 'Everton', 'Fulham', 'West Ham United', 'Leicester City', 'Tottenham Hotspur', 'Chelsea', 'Arsenal', 'Brighton & Hove Albion', 'Crystal Palace']\n",
      "Manchester City\n",
      "['Liverpool', 'Nottingham Forest', 'Crystal Palace', 'Manchester United', 'Aston Villa', 'Everton', 'Leicester City', 'West Ham United', 'Brentford', 'Ipswich Town', 'Chelsea', 'Arsenal', 'Newcastle United', 'Liverpool', 'Tottenham Hotspur', 'Nottingham Forest', 'Brighton & Hove Albion', 'Leicester City', 'Manchester United', 'Crystal Palace', 'Everton', 'Aston Villa', 'Wolverhampton Wanderers', 'Southampton', 'AFC Bournemouth', 'Fulham']\n",
      "Manchester United\n",
      "['Everton', 'Arsenal', 'Nottingham Forest', 'Manchester City', 'AFC Bournemouth', 'Wolverhampton Wanderers', 'Newcastle United', 'Liverpool', 'Southampton', 'Brighton & Hove Albion', 'Fulham', 'Crystal Palace', 'Tottenham Hotspur', 'Everton', 'Ipswich Town', 'Arsenal', 'Leicester City', 'Nottingham Forest', 'Manchester City', 'Newcastle United', 'Wolverhampton Wanderers', 'AFC Bournemouth', 'Brentford', 'West Ham United', 'Chelsea', 'Aston Villa']\n",
      "Newcastle United\n",
      "['Crystal Palace', 'Liverpool', 'Brentford', 'Leicester City', 'Ipswich Town', 'Aston Villa', 'Manchester United', 'Tottenham Hotspur', 'Wolverhampton Wanderers', 'AFC Bournemouth', 'Southampton', 'Fulham', 'Manchester City', 'Nottingham Forest', 'Liverpool', 'West Ham United', 'Crystal Palace', 'Brentford', 'Leicester City', 'Manchester United', 'Aston Villa', 'Ipswich Town', 'Brighton & Hove Albion', 'Chelsea', 'Arsenal', 'Everton']\n",
      "Nottingham Forest\n",
      "['Ipswich Town', 'Manchester City', 'Manchester United', 'Aston Villa', 'Brentford', 'Tottenham Hotspur', 'Everton', 'Wolverhampton Wanderers', 'Liverpool', 'Southampton', 'AFC Bournemouth', 'Brighton & Hove Albion', 'Fulham', 'Newcastle United', 'Arsenal', 'Manchester City', 'Ipswich Town', 'Manchester United', 'Aston Villa', 'Everton', 'Tottenham Hotspur', 'Brentford', 'Crystal Palace', 'Leicester City', 'West Ham United', 'Chelsea']\n",
      "Southampton\n",
      "['Brighton & Hove Albion', 'Chelsea', 'Aston Villa', 'Tottenham Hotspur', 'Fulham', 'West Ham United', 'Crystal Palace', 'Brentford', 'Manchester United', 'Nottingham Forest', 'Newcastle United', 'Ipswich Town', 'AFC Bournemouth', 'Brighton & Hove Albion', 'Chelsea', 'Liverpool', 'Wolverhampton Wanderers', 'Crystal Palace', 'Tottenham Hotspur', 'Aston Villa', 'West Ham United', 'Fulham', 'Leicester City', 'Manchester City', 'Everton', 'Arsenal']\n",
      "Tottenham Hotspur\n",
      "['Fulham', 'AFC Bournemouth', 'Chelsea', 'Southampton', 'Liverpool', 'Nottingham Forest', 'Wolverhampton Wanderers', 'Newcastle United', 'Arsenal', 'Everton', 'Leicester City', 'Brentford', 'Manchester United', 'Ipswich Town', 'Manchester City', 'AFC Bournemouth', 'Fulham', 'Chelsea', 'Southampton', 'Wolverhampton Wanderers', 'Nottingham Forest', 'Liverpool', 'West Ham United', 'Crystal Palace', 'Aston Villa', 'Brighton & Hove Albion']\n",
      "West Ham United\n",
      "['Arsenal', 'Leicester City', 'Wolverhampton Wanderers', 'AFC Bournemouth', 'Brighton & Hove Albion', 'Southampton', 'Liverpool', 'Manchester City', 'Fulham', 'Crystal Palace', 'Aston Villa', 'Chelsea', 'Brentford', 'Arsenal', 'Leicester City', 'Newcastle United', 'Everton', 'Wolverhampton Wanderers', 'AFC Bournemouth', 'Liverpool', 'Southampton', 'Brighton & Hove Albion', 'Tottenham Hotspur', 'Manchester United', 'Nottingham Forest', 'Ipswich Town']\n",
      "Wolverhampton Wanderers\n",
      "['AFC Bournemouth', 'Everton', 'West Ham United', 'Ipswich Town', 'Leicester City', 'Manchester United', 'Tottenham Hotspur', 'Nottingham Forest', 'Newcastle United', 'Chelsea', 'Arsenal', 'Aston Villa', 'Liverpool', 'AFC Bournemouth', 'Fulham', 'Everton', 'Southampton', 'West Ham United', 'Ipswich Town', 'Tottenham Hotspur', 'Manchester United', 'Leicester City', 'Manchester City', 'Brighton & Hove Albion', 'Crystal Palace', 'Brentford']\n"
     ]
    }
   ],
   "source": [
    "import random\n",
    "all_data_of_clubs_df['Fixtures'] = None\n",
    "count = -1\n",
    "    \n",
    "for url in df_link.values:\n",
    "    driver = webdriver.Chrome(options=chrome_options)\n",
    "    url_fixture = url[0].replace(\"stats?se=719\", \"fixtures\")\n",
    "    driver.get(url_fixture)\n",
    "    time.sleep(random.randint(5, 7))\n",
    "    \n",
    "    last_height = driver.execute_script(\"return document.body.scrollHeight\")\n",
    "    while True:\n",
    "        driver.execute_script(\"window.scrollTo(0, document.body.scrollHeight);\") \n",
    "        time.sleep(2)\n",
    "\n",
    "        new_height = driver.execute_script(\"return document.body.scrollHeight\")\n",
    "        if new_height == last_height:\n",
    "            break\n",
    "        last_height = new_height\n",
    "\n",
    "    elements = driver.find_elements(By.CLASS_NAME, 'fixtures__date-container')\n",
    "    competitors = []\n",
    "    count+=1\n",
    "    for element in elements:\n",
    "        all_name = element.find_elements(By.CLASS_NAME, 'match-fixture__short-name')\n",
    "        \n",
    "        competitor = premier_league_clubs.get(all_name[0].text) if premier_league_clubs.get(all_name[1].text) == link_all_club['name_club'][count] else premier_league_clubs.get(all_name[1].text)\n",
    "        competitors.append(competitor)\n",
    "        \n",
    "    print(link_all_club['name_club'][count])\n",
    "    print(competitors)\n",
    "        \n",
    "    competitors_string = \", \".join(competitors)\n",
    "    \n",
    "    all_data_of_clubs_df.loc[link_all_club['name_club'][count], \"Fixtures\"] = competitors_string\n",
    "\n",
    "    driver.quit()"
   ]
  },
  {
   "cell_type": "markdown",
   "metadata": {},
   "source": [
    "Get rank of all club"
   ]
  },
  {
   "cell_type": "code",
   "execution_count": null,
   "metadata": {},
   "outputs": [
    {
     "ename": "NameError",
     "evalue": "name 'all_data_of_clubs_df' is not defined",
     "output_type": "error",
     "traceback": [
      "\u001b[1;31m---------------------------------------------------------------------------\u001b[0m",
      "\u001b[1;31mNameError\u001b[0m                                 Traceback (most recent call last)",
      "Cell \u001b[1;32mIn[5], line 15\u001b[0m\n\u001b[0;32m     13\u001b[0m         \u001b[38;5;28;01mbreak\u001b[39;00m\n\u001b[0;32m     14\u001b[0m     last_height \u001b[38;5;241m=\u001b[39m new_height\n\u001b[1;32m---> 15\u001b[0m \u001b[43mall_data_of_clubs_df\u001b[49m[\u001b[38;5;124m'\u001b[39m\u001b[38;5;124mRank\u001b[39m\u001b[38;5;124m'\u001b[39m] \u001b[38;5;241m=\u001b[39m \u001b[38;5;28;01mNone\u001b[39;00m\n\u001b[0;32m     16\u001b[0m all_data_of_clubs_df[\u001b[38;5;124m'\u001b[39m\u001b[38;5;124mPoints\u001b[39m\u001b[38;5;124m'\u001b[39m] \u001b[38;5;241m=\u001b[39m \u001b[38;5;28;01mNone\u001b[39;00m\n\u001b[0;32m     17\u001b[0m all_data_of_clubs_df[\u001b[38;5;124m'\u001b[39m\u001b[38;5;124mPerformances\u001b[39m\u001b[38;5;124m'\u001b[39m] \u001b[38;5;241m=\u001b[39m \u001b[38;5;28;01mNone\u001b[39;00m\n",
      "\u001b[1;31mNameError\u001b[0m: name 'all_data_of_clubs_df' is not defined"
     ]
    }
   ],
   "source": [
    "url = 'https://www.premierleague.com/tables'\n",
    "driver = webdriver.Chrome(options=chrome_options)\n",
    "driver.get(url)\n",
    "time.sleep(5)\n",
    "\n",
    "last_height = driver.execute_script(\"return document.body.scrollHeight\")\n",
    "while True:\n",
    "    driver.execute_script(\"window.scrollTo(0, document.body.scrollHeight);\") \n",
    "    time.sleep(2)\n",
    "\n",
    "    new_height = driver.execute_script(\"return document.body.scrollHeight\")\n",
    "    if new_height == last_height:\n",
    "        break\n",
    "    last_height = new_height\n",
    "all_data_of_clubs_df['Rank'] = None\n",
    "all_data_of_clubs_df['Points'] = None\n",
    "all_data_of_clubs_df['Performances'] = None\n",
    "elements = driver.find_elements(By.XPATH, \"//*[@class=' ' or @class='tableDark EU_CL' or @class='tableMid EU_CL' or @class='tableMid EU_UC' or @class='tableMid EU_CF']\")\n",
    "\n",
    "for element in elements:\n",
    "    rank = element.find_element(By.CLASS_NAME, 'league-table__value').text\n",
    "    name = element.find_element(By.CLASS_NAME, 'league-table__team-name').text\n",
    "    if name == \"Brighton And Hove Albion\":\n",
    "        name = \"Brighton & Hove Albion\"\n",
    "    print(name)\n",
    "    points = element.find_element(By.CLASS_NAME, 'league-table__points').text\n",
    "    performances_html = element.find_elements(By.CLASS_NAME, 'form-abbreviation')\n",
    "    performances = []\n",
    "    for performance in performances_html:\n",
    "        performances.append(performance.text)\n",
    "    all_data_of_clubs_df.loc[name, \"Rank\"] = int(rank)\n",
    "    all_data_of_clubs_df.loc[name, \"Points\"] = int(points)\n",
    "    all_data_of_clubs_df.loc[name, \"Performances\"] = \", \".join(performances)\n",
    "    \n",
    "all_data_of_clubs_df.to_csv(\"../../../Data/Club/all_data_of_clubs.csv\", index=True)"
   ]
  }
 ],
 "metadata": {
  "kernelspec": {
   "display_name": "Python 3",
   "language": "python",
   "name": "python3"
  },
  "language_info": {
   "codemirror_mode": {
    "name": "ipython",
    "version": 3
   },
   "file_extension": ".py",
   "mimetype": "text/x-python",
   "name": "python",
   "nbconvert_exporter": "python",
   "pygments_lexer": "ipython3",
   "version": "3.12.5"
  }
 },
 "nbformat": 4,
 "nbformat_minor": 2
}
