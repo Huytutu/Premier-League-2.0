{
 "cells": [
  {
   "cell_type": "code",
   "execution_count": 1,
   "metadata": {},
   "outputs": [],
   "source": [
    "import pandas as pd"
   ]
  },
  {
   "cell_type": "code",
   "execution_count": 2,
   "metadata": {},
   "outputs": [],
   "source": [
    "df_midfielder = pd.read_csv(\"../../data/Stats_csv/Midfielder_stats.csv\")"
   ]
  },
  {
   "cell_type": "code",
   "execution_count": 3,
   "metadata": {},
   "outputs": [],
   "source": [
    "def processing_data(df):\n",
    "    # Sắp xếp theo cột 'Appearances' (nếu cần) và loại bỏ các dòng trùng lặp theo 'Name'\n",
    "    df = df.sort_values(by='Appearances', ascending=False)\n",
    "    df = df.drop_duplicates(subset=['Name'], keep='last')\n",
    "    \n",
    "    # Xóa các dòng có giá trị NaN\n",
    "    df = df.dropna()\n",
    "    \n",
    "    # Chuẩn hóa cột 'Date of Birth'\n",
    "    def std_date_of_birth(date):\n",
    "        try:\n",
    "            return date.split(\" \")[0]\n",
    "        except AttributeError:  # Xử lý lỗi nếu giá trị không phải chuỗi\n",
    "            return date\n",
    "    \n",
    "    # Chuẩn hóa cột 'Height'\n",
    "    def std_height(height):\n",
    "        try:\n",
    "            return float(height.split(\"c\")[0]) if isinstance(height, str) else height\n",
    "        except ValueError:  # Xử lý lỗi nếu giá trị không thể chuyển thành số\n",
    "            return height\n",
    "    def std_Passes(Passes):\n",
    "        try:\n",
    "            return int(''.join(Passes.split(','))) if isinstance(Passes,str) else Passes\n",
    "        except ValueError:\n",
    "            return Passes\n",
    "    df['Passes'] = df['Passes'].apply(std_Passes)\n",
    "    df['Date of Birth'] = df['Date of Birth'].apply(std_date_of_birth)\n",
    "    df['Height'] = df['Height'].apply(std_height)\n",
    "    \n",
    "    return df\n",
    "\n",
    "df_midfielder = processing_data(df_midfielder)"
   ]
  },
  {
   "cell_type": "code",
   "execution_count": 4,
   "metadata": {},
   "outputs": [],
   "source": [
    "df_midfielder.to_csv('../../data/Stats_csv/Processed_Midfielder_data.csv',index=False) "
   ]
  }
 ],
 "metadata": {
  "kernelspec": {
   "display_name": "Python 3",
   "language": "python",
   "name": "python3"
  },
  "language_info": {
   "codemirror_mode": {
    "name": "ipython",
    "version": 3
   },
   "file_extension": ".py",
   "mimetype": "text/x-python",
   "name": "python",
   "nbconvert_exporter": "python",
   "pygments_lexer": "ipython3",
   "version": "3.11.5"
  }
 },
 "nbformat": 4,
 "nbformat_minor": 2
}
